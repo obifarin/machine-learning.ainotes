{
 "cells": [
  {
   "cell_type": "markdown",
   "metadata": {},
   "source": [
    "# Linear Algebra Review with Numerical Python\n",
    "\n",
    "Author: Olatomiwa Bifarin. <br>\n",
    "PhD Candidate Biochemistry <br>\n",
    "@ The University of Georgia\n",
    "\n",
    "_This is a draft copy_"
   ]
  },
  {
   "cell_type": "markdown",
   "metadata": {},
   "source": [
    "## References\n",
    "https://www.youtube.com/watch?v=kYB8IZa5AuE&list=PLZHQObOWTQDPD3MizzM2xVFitgF8hE_ab&index=4&t=314s\n",
    "\n",
    "Hands on Machine Learning (Linear Algebra) (Check notebook)\n",
    "\n",
    "https://rlhick.people.wm.edu/stories/linear-algebra-python-basics.html\n",
    "\n",
    "https://github.com/chaddy1004/Linear-Algebra-Notes/blob/master/LinAlgNotes.pdf"
   ]
  },
  {
   "cell_type": "markdown",
   "metadata": {},
   "source": [
    "## Notebook Content\n",
    "\n",
    "1.  [Vectors](#1) <br>\n",
    "    1.1 [Vectors Operation](#1.1) <br>\n",
    "    1.2 [Modulus and Inner Products](#1.2) <br>\n",
    "    1.3 [Dot Product and Cosine](#1.3) <br>\n",
    "    1.4 [Vector Projections](#1.4) <br>\n",
    "    1.5 [Basis Vectors and Linear Combinations](#1.5)\n",
    "2.  [Matrices](#2)"
   ]
  },
  {
   "cell_type": "code",
   "execution_count": 2,
   "metadata": {},
   "outputs": [],
   "source": [
    "import numpy as np\n",
    "import numpy.linalg as LA\n",
    "from matplotlib import pyplot as plt\n",
    "from matplotlib import style\n",
    "import seaborn as sns; sns.set(style='white')\n",
    "%config InlineBackend.figure_format = 'retina'"
   ]
  },
  {
   "cell_type": "markdown",
   "metadata": {},
   "source": [
    "## 1. Vectors\n",
    "<a id=\"1\"></a>"
   ]
  },
  {
   "cell_type": "markdown",
   "metadata": {},
   "source": [
    "Vectors in machine learning and data science is used to collect and represent data. Take Cristiano Roanaldo, the famous soccer player, who is 35 years of age, 1.87m tall, wears the shirt number 7. <br> This can be represented in the vector cr7 as shown below: "
   ]
  },
  {
   "cell_type": "markdown",
   "metadata": {},
   "source": [
    "$$ \\mbox{cr7} = \\begin{bmatrix}\n",
    "34 \\\\\n",
    "1.87 \\\\\n",
    "7 \\\\\n",
    "\\end{bmatrix}$$"
   ]
  },
  {
   "cell_type": "markdown",
   "metadata": {},
   "source": [
    "Now take Lionel Messi:"
   ]
  },
  {
   "cell_type": "markdown",
   "metadata": {},
   "source": [
    "$$ \\mbox{Messi} = \\begin{bmatrix}\n",
    "32 \\\\\n",
    "1.70 \\\\\n",
    "10 \\\\\n",
    "\\end{bmatrix}$$"
   ]
  },
  {
   "cell_type": "markdown",
   "metadata": {},
   "source": [
    "Vectors in python can be represented as a `list` declared as `numpy array`: "
   ]
  },
  {
   "cell_type": "code",
   "execution_count": 3,
   "metadata": {},
   "outputs": [
    {
     "data": {
      "text/plain": [
       "array([34.  ,  1.89,  7.  ])"
      ]
     },
     "execution_count": 3,
     "metadata": {},
     "output_type": "execute_result"
    }
   ],
   "source": [
    "cr7 = np.array([34., 1.89, 7])\n",
    "cr7"
   ]
  },
  {
   "cell_type": "markdown",
   "metadata": {},
   "source": [
    "Each of this element can be retrieved using the following python list methods."
   ]
  },
  {
   "cell_type": "code",
   "execution_count": 4,
   "metadata": {},
   "outputs": [
    {
     "data": {
      "text/plain": [
       "34.0"
      ]
     },
     "execution_count": 4,
     "metadata": {},
     "output_type": "execute_result"
    }
   ],
   "source": [
    "cr7[0]"
   ]
  },
  {
   "cell_type": "code",
   "execution_count": 5,
   "metadata": {},
   "outputs": [
    {
     "data": {
      "text/plain": [
       "1.89"
      ]
     },
     "execution_count": 5,
     "metadata": {},
     "output_type": "execute_result"
    }
   ],
   "source": [
    "cr7[1]"
   ]
  },
  {
   "cell_type": "markdown",
   "metadata": {},
   "source": [
    "`shape` gives the dimension of a vector/matrix."
   ]
  },
  {
   "cell_type": "code",
   "execution_count": 6,
   "metadata": {},
   "outputs": [
    {
     "name": "stdout",
     "output_type": "stream",
     "text": [
      "Vector: [34.    1.89  7.  ]\n",
      "Vector's Shape: (3,)\n"
     ]
    }
   ],
   "source": [
    "print (\"Vector:\", cr7)\n",
    "print (\"Vector's Shape:\", cr7.shape)"
   ]
  },
  {
   "cell_type": "markdown",
   "metadata": {},
   "source": [
    "### `1.1 Vectors Operations`\n",
    "<a id=\"1.1\"></a>"
   ]
  },
  {
   "cell_type": "markdown",
   "metadata": {},
   "source": [
    "**Addition and Substraction:** <br>\n",
    "Vectors can be added and substrated: \n",
    "\n",
    "$$ a = \\begin{bmatrix}\n",
    "a_i \\\\\n",
    "\\vdots \\\\\n",
    "a_j \\\\\n",
    "\\end{bmatrix}\n",
    "b = \\begin{bmatrix}\n",
    "b_i \\\\\n",
    "\\vdots \\\\\n",
    "b_j \\\\\n",
    "\\end{bmatrix}$$\n",
    "\n",
    "$$ a  + b  = \\begin{bmatrix}\n",
    "a_i + b_i \\\\\n",
    "\\vdots \\\\\n",
    "a_j + b_j \\\\\n",
    "\\end{bmatrix} \n",
    "a - b = \\begin{bmatrix}\n",
    "a_i - b_i \\\\\n",
    "\\vdots \\\\\n",
    "a_j - b_j \\\\\n",
    "\\end{bmatrix}$$\n",
    "\n",
    "\n",
    "Inaddition, scalars can be used to multiply a vector as show below: \n",
    "\n",
    "$$\n",
    "ax = \\begin{bmatrix}\n",
    "ax_1 \\\\\n",
    "\\vdots \\\\\n",
    "ax_2 \\\\\n",
    "\\end{bmatrix} a \\in \\mathbb{R}$$"
   ]
  },
  {
   "cell_type": "code",
   "execution_count": 8,
   "metadata": {},
   "outputs": [
    {
     "data": {
      "text/plain": [
       "array([31. ,  1.7, 10. ])"
      ]
     },
     "execution_count": 8,
     "metadata": {},
     "output_type": "execute_result"
    }
   ],
   "source": [
    "Messi = np.array([31, 1.70, 10])\n",
    "Messi"
   ]
  },
  {
   "cell_type": "code",
   "execution_count": 9,
   "metadata": {},
   "outputs": [
    {
     "data": {
      "text/plain": [
       "array([ 3.  ,  0.19, -3.  ])"
      ]
     },
     "execution_count": 9,
     "metadata": {},
     "output_type": "execute_result"
    }
   ],
   "source": [
    "cr7 - Messi"
   ]
  },
  {
   "cell_type": "code",
   "execution_count": 10,
   "metadata": {},
   "outputs": [
    {
     "data": {
      "text/plain": [
       "array([65.  ,  3.59, 17.  ])"
      ]
     },
     "execution_count": 10,
     "metadata": {},
     "output_type": "execute_result"
    }
   ],
   "source": [
    "cr7 + Messi"
   ]
  },
  {
   "cell_type": "markdown",
   "metadata": {},
   "source": [
    "### `1.2 Modulus and Inner Products`\n",
    "<a id=\"1.2\"></a>"
   ]
  },
  {
   "cell_type": "markdown",
   "metadata": {},
   "source": [
    "**Modulus**"
   ]
  },
  {
   "cell_type": "markdown",
   "metadata": {},
   "source": [
    "The modulus gives you the length (or size) of a vector"
   ]
  },
  {
   "cell_type": "markdown",
   "metadata": {},
   "source": [
    "$$ r = \\begin{bmatrix}\n",
    "a \\\\\n",
    "b \\\\\n",
    "c \\\\\n",
    "\\end{bmatrix}$$\n",
    "\n",
    "$$ |r| = \\sqrt{a^2 + b^2 + c^2} $$"
   ]
  },
  {
   "cell_type": "markdown",
   "metadata": {},
   "source": [
    "Size of a vector could be computed using the function `numpy.linalg.norm`"
   ]
  },
  {
   "cell_type": "code",
   "execution_count": 11,
   "metadata": {},
   "outputs": [
    {
     "data": {
      "text/plain": [
       "7.0710678118654755"
      ]
     },
     "execution_count": 11,
     "metadata": {},
     "output_type": "execute_result"
    }
   ],
   "source": [
    "r = np.array([3,4,5])\n",
    "np.linalg.norm(r)"
   ]
  },
  {
   "cell_type": "markdown",
   "metadata": {},
   "source": [
    "**Inner Products**"
   ]
  },
  {
   "cell_type": "markdown",
   "metadata": {},
   "source": [
    "$$ a = \\begin{pmatrix}\n",
    "a_i \\\\\n",
    "a_j \\\\\n",
    "\\end{pmatrix}\n",
    "b= \\begin{pmatrix}\n",
    "b_i \\\\\n",
    "b_j \\\\\n",
    "\\end{pmatrix}$$\n",
    "\n",
    "Therefore, the dot product of the vectors is given by\n",
    "\n",
    "$$ a . b = a_ib_i + a_jb_j$$\n",
    "\n",
    "Properties of Inner Products Operations are the following:\n",
    "\n",
    "-  Commutative: $$ a . b = b . a $$\n",
    "\n",
    "-  Distributive over addition: $$a . (c+d) = a . c + a . d$$ where\n",
    "\n",
    "    $$c = \\begin{pmatrix}\n",
    "    c_i \\\\\n",
    "    c_j \\\\\n",
    "    \\end{pmatrix} d = \\begin{pmatrix}\n",
    "    d_i \\\\\n",
    "    d_j \\\\\n",
    "    \\end{pmatrix}$$\n",
    "\n",
    "-  Associative over Scalar Multiplication: \n",
    "$$ A. (xD) = x(A . D)$$ Where $x$ is the scalar.\n",
    "\n",
    "Note the link between dot product and modulus of a vector.\n",
    "\n",
    "$$A . A = a_1a_1 + b_1b_2 = a_1^2 + a_2^2 = (\\sqrt{a_1^2 + a_2^2})^2 = (|A|)^2$$\n",
    "\n",
    "This dictates that the dot product of a vector with itself gives the square of the vector modulus"
   ]
  },
  {
   "cell_type": "markdown",
   "metadata": {},
   "source": [
    "For the dot product in python, we use `numpy.dot`"
   ]
  },
  {
   "cell_type": "code",
   "execution_count": 18,
   "metadata": {},
   "outputs": [
    {
     "data": {
      "text/plain": [
       "1127.213"
      ]
     },
     "execution_count": 18,
     "metadata": {},
     "output_type": "execute_result"
    }
   ],
   "source": [
    "np.dot(cr7, Messi)"
   ]
  },
  {
   "cell_type": "markdown",
   "metadata": {},
   "source": [
    "### `1.3 Dot Product and Cosine`\n",
    "<a id=\"1.3\"></a>"
   ]
  },
  {
   "cell_type": "markdown",
   "metadata": {},
   "source": [
    "$\\textbf{a} \\cdot \\textbf{b} = \\left \\Vert \\textbf{a} \\right \\| \\times \\left \\Vert \\textbf{b} \\right \\| \\times cos(\\theta)$\n",
    "\n",
    "If the angle between a and b  = 0; $\\textbf{a} \\cdot \\textbf{b} = \\left \\Vert \\textbf{a} \\right \\| \\times \\left \\Vert \\textbf{b} \\right \\|$  since $cos(0) = 1$\n",
    "\n",
    "If a and b are orthogonal, $\\textbf{a} \\cdot \\textbf{b} = 0$ since $cos(90) = 0$\n",
    "\n",
    "If a and b are orthogonal, $\\textbf{a} \\cdot \\textbf{b} = -\\textbf{a} \\cdot \\textbf{b}$ since $cos(180) = -1$"
   ]
  },
  {
   "cell_type": "markdown",
   "metadata": {},
   "source": [
    "### `1.4 Vector Projection`\n",
    "<a id=\"1.4\"></a>"
   ]
  },
  {
   "cell_type": "markdown",
   "metadata": {},
   "source": [
    "As we will see, dot products is important in vector projection. \n",
    "\n",
    "The vector projection of b onto a: \n",
    "\n",
    "$\\textbf{proj}_{\\textbf{a}}{\\textbf{b}} = \\dfrac{\\textbf{a} \\cdot \\textbf{b}}{\\left \\Vert \\textbf{a} \\right \\| ^2} \\times \\textbf{b}$\n"
   ]
  },
  {
   "cell_type": "code",
   "execution_count": 20,
   "metadata": {},
   "outputs": [],
   "source": [
    "def plot_vector2d(vector2d, origin=[0, 0], **options):\n",
    "    return plt.arrow(origin[0], origin[1], vector2d[0], vector2d[1],\n",
    "              head_width=0.2, head_length=0.3, length_includes_head=True,\n",
    "              **options)"
   ]
  },
  {
   "cell_type": "code",
   "execution_count": 21,
   "metadata": {},
   "outputs": [],
   "source": [
    "A = np.array([2, 5])\n",
    "B = np.array([3, 1])"
   ]
  },
  {
   "cell_type": "code",
   "execution_count": 22,
   "metadata": {},
   "outputs": [
    {
     "data": {
      "image/png": "[encoded data removed]",
      "text/plain": [
       "<Figure size 432x288 with 1 Axes>"
      ]
     },
     "metadata": {
      "image/png": {
       "height": 251,
       "width": 367
      },
      "needs_background": "light"
     },
     "output_type": "display_data"
    }
   ],
   "source": [
    "A_normal = A / LA.norm(A)\n",
    "proj = B.dot(A_normal) * A_normal\n",
    "\n",
    "plot_vector2d(A, color=\"r\")\n",
    "plot_vector2d(B, color=\"b\")\n",
    "\n",
    "plot_vector2d(proj, color=\"k\", linestyle=\":\")\n",
    "plt.plot(proj[0], proj[1], \"ko\")\n",
    "\n",
    "plt.plot([proj[0], B[0]], [proj[1], B[1]], \"b:\")\n",
    "\n",
    "plt.text(1, 2, \"$proj_a b$\", color=\"k\", fontsize=18)\n",
    "plt.text(1.8, 0.2, \"$b$\", color=\"b\", fontsize=18)\n",
    "plt.text(0.8, 3, \"$a$\", color=\"r\", fontsize=18)\n",
    "\n",
    "plt.axis([0, 8, 0, 5.5])\n",
    "plt.grid()\n",
    "plt.show()"
   ]
  },
  {
   "cell_type": "markdown",
   "metadata": {},
   "source": [
    "### `1.5 Basis Vectors and Linear Combinations` \n",
    "<a id=\"1.5\"></a>"
   ]
  },
  {
   "cell_type": "markdown",
   "metadata": {},
   "source": [
    "Omit this section? <br>\n",
    "Discuss linear combination, span, basis vectors, linear (in)dependency"
   ]
  },
  {
   "cell_type": "markdown",
   "metadata": {},
   "source": [
    "## 2. Matrices\n",
    "<a id=\"2\"></a>"
   ]
  },
  {
   "cell_type": "markdown",
   "metadata": {},
   "source": [
    "`A` below is an example of a matrix"
   ]
  },
  {
   "cell_type": "code",
   "execution_count": 9,
   "metadata": {},
   "outputs": [
    {
     "data": {
      "text/plain": [
       "array([[1, 1, 1],\n",
       "       [3, 2, 1],\n",
       "       [2, 1, 2]])"
      ]
     },
     "execution_count": 9,
     "metadata": {},
     "output_type": "execute_result"
    }
   ],
   "source": [
    "A = np.array([\n",
    "    [1, 1, 1],\n",
    "    [3, 2, 1],\n",
    "    [2, 1, 2]\n",
    "])\n",
    "A"
   ]
  },
  {
   "cell_type": "markdown",
   "metadata": {},
   "source": [
    "One characteristics of the matrix is the dimension of the matrix, and this is given by the  `shape` method in numpy, which returns: <br> \n",
    "(number of rows, number of columns)"
   ]
  },
  {
   "cell_type": "code",
   "execution_count": 10,
   "metadata": {},
   "outputs": [
    {
     "data": {
      "text/plain": [
       "(3, 3)"
      ]
     },
     "execution_count": 10,
     "metadata": {},
     "output_type": "execute_result"
    }
   ],
   "source": [
    "A.shape"
   ]
  },
  {
   "cell_type": "markdown",
   "metadata": {},
   "source": [
    "### `Definition and Retrieving Elements`"
   ]
  },
  {
   "cell_type": "markdown",
   "metadata": {},
   "source": [
    "Matrix `A` defined hypothetically:"
   ]
  },
  {
   "cell_type": "markdown",
   "metadata": {},
   "source": [
    "$$A = \\begin{bmatrix}\n",
    "  a_{1,1} & a_{1,2} & \\cdots & a_{1,n}\\\\\n",
    "  a_{2,1} & a_{2,2} & \\cdots & a_{2,n}\\\\\n",
    "  a_{3,1} & a_{3,2} &  \\cdots & a_{3,n}\\\\\n",
    "  \\vdots & \\vdots & \\ddots & \\vdots \\\\\n",
    "  a_{m,1} & a_{m,2} &  \\cdots & a_{m,n}\\\\\n",
    "\\end{bmatrix}$$"
   ]
  },
  {
   "cell_type": "markdown",
   "metadata": {},
   "source": [
    "To retrieve elements from matrix `A`, we use various indexing methods."
   ]
  },
  {
   "cell_type": "code",
   "execution_count": 23,
   "metadata": {},
   "outputs": [
    {
     "data": {
      "text/plain": [
       "array([[1, 1, 1],\n",
       "       [3, 2, 1],\n",
       "       [2, 1, 2]])"
      ]
     },
     "execution_count": 23,
     "metadata": {},
     "output_type": "execute_result"
    }
   ],
   "source": [
    "A # Marix A. "
   ]
  },
  {
   "cell_type": "code",
   "execution_count": 24,
   "metadata": {},
   "outputs": [
    {
     "data": {
      "text/plain": [
       "array([3, 2, 1])"
      ]
     },
     "execution_count": 24,
     "metadata": {},
     "output_type": "execute_result"
    }
   ],
   "source": [
    "A[0] # first row"
   ]
  },
  {
   "cell_type": "code",
   "execution_count": 25,
   "metadata": {},
   "outputs": [
    {
     "data": {
      "text/plain": [
       "array([3, 2, 1])"
      ]
     },
     "execution_count": 25,
     "metadata": {},
     "output_type": "execute_result"
    }
   ],
   "source": [
    "A[1] # second row"
   ]
  },
  {
   "cell_type": "code",
   "execution_count": 27,
   "metadata": {},
   "outputs": [
    {
     "data": {
      "text/plain": [
       "2"
      ]
     },
     "execution_count": 27,
     "metadata": {},
     "output_type": "execute_result"
    }
   ],
   "source": [
    "A[2,2] # last element in the matrix"
   ]
  },
  {
   "cell_type": "code",
   "execution_count": 11,
   "metadata": {},
   "outputs": [
    {
     "data": {
      "text/plain": [
       "array([[1, 1, 1],\n",
       "       [3, 2, 1]])"
      ]
     },
     "execution_count": 11,
     "metadata": {},
     "output_type": "execute_result"
    }
   ],
   "source": [
    "A[:2, ] #first two rows"
   ]
  },
  {
   "cell_type": "code",
   "execution_count": 16,
   "metadata": {},
   "outputs": [
    {
     "data": {
      "text/plain": [
       "array([[1, 1],\n",
       "       [2, 1],\n",
       "       [1, 2]])"
      ]
     },
     "execution_count": 16,
     "metadata": {},
     "output_type": "execute_result"
    }
   ],
   "source": [
    "A[: ,1:] #last two columns"
   ]
  },
  {
   "cell_type": "markdown",
   "metadata": {},
   "source": [
    "### `Linear Transformation & Matrices`"
   ]
  },
  {
   "cell_type": "markdown",
   "metadata": {},
   "source": [
    "Matrix in linear algebra can be thought of as tool used for transforming objects in space, which can be grasped via examples of matrix multiplication. Take the following:"
   ]
  },
  {
   "cell_type": "markdown",
   "metadata": {},
   "source": [
    "$$\\begin{bmatrix}\n",
    "  a & b\\\\\n",
    "  c & d\\\\\n",
    "\\end{bmatrix} \n",
    "\\begin{bmatrix}x\\\\ y\\\\\n",
    "\\end{bmatrix}\n",
    "= x \\begin{bmatrix}a\\\\ c\\\\\n",
    "\\end{bmatrix} + y\\begin{bmatrix}b\\\\ d\\\\\n",
    "\\end{bmatrix}\n",
    "= \\begin{bmatrix}\n",
    "ax + by\\\\ \n",
    "cx + dy\\\\\n",
    "\\end{bmatrix}$$\n",
    "\n",
    "Where $\\begin{bmatrix}a\\\\ c\\\\ \\end{bmatrix}$ and $\\begin{bmatrix}b\\\\ d\\\\ \\end{bmatrix}$ can be treated as linear transformed basis vectors scaled by scalars `x` and `y` to give the multiplication results, an object whose position in space has been transformed. Here, the matrix is used to store the transformed basis vectors and the vectors are scaled by the scalars stored in the vector $\\begin{bmatrix}x\\\\ y\\\\\\end{bmatrix}$, the input vector. This is a fairly good intuition to build for matrix multiplication. <br>\n",
    "\n",
    "Now take the following matrix multiplication: \n",
    "$$\\begin{bmatrix}\n",
    "  a & b\\\\\n",
    "  c & d\\\\\n",
    "\\end{bmatrix} \n",
    "\\begin{bmatrix}\n",
    "  e & f\\\\\n",
    "  g & h\\\\\n",
    "\\end{bmatrix}$$\n",
    "\n",
    "These two matrices can be thought of as two kinds of transformation (i.e. transform an object in space), where the multiplication gives us a composition of the two transformation. \n",
    "$$\\begin{bmatrix}\n",
    "  a & b\\\\\n",
    "  c & d\\\\\n",
    "\\end{bmatrix} \n",
    "\\begin{bmatrix}\n",
    "  e & f\\\\\n",
    "  g & h\\\\\n",
    "\\end{bmatrix} = \\begin{bmatrix}\n",
    "ae+bg & af+bh \\\\\n",
    "ce+dg & cf+dh \\\\\n",
    "\\end{bmatrix}$$\n",
    "\n",
    "Note that matrix multiplication is <br>\n",
    "1)  `NOT` commutative\n",
    "$$ A_1A_2 \\neq A_2A_1 $$\n",
    "2) Associative\n",
    "$$ A_3(A_2A_1) = (A_3A_2)A_1 $$"
   ]
  },
  {
   "cell_type": "code",
   "execution_count": null,
   "metadata": {},
   "outputs": [],
   "source": []
  },
  {
   "cell_type": "code",
   "execution_count": null,
   "metadata": {},
   "outputs": [],
   "source": []
  },
  {
   "cell_type": "markdown",
   "metadata": {},
   "source": [
    "### `Determinants and Inverses`"
   ]
  },
  {
   "cell_type": "markdown",
   "metadata": {},
   "source": [
    "Determinant of a matrix is the factor in which an object scales in space after transformation, where a negative determinant indicates a flip of the orientation of the object. Computationally, it's defined as such:\n",
    "\n",
    "$$ det\\begin{pmatrix} \\begin{bmatrix}\n",
    "a & b \\\\\n",
    "c & d \\\\\n",
    "\\end{bmatrix} \\end{pmatrix} = ad - bc $$\n",
    "\n",
    "For a 3X3 matrix: \n",
    "$$ det\\begin{pmatrix} \\begin{bmatrix}\n",
    "a & b & c \\\\\n",
    "d & e & f \\\\\n",
    "g & h & i \\\\\n",
    "\\end{bmatrix} \\end{pmatrix} \n",
    "= a det \\begin{pmatrix} \\begin{bmatrix}\n",
    "e & f \\\\\n",
    "h & i \\\\\n",
    "\\end{bmatrix} \\end{pmatrix}\n",
    "- bdet\\begin{pmatrix} \\begin{bmatrix}\n",
    "d & f \\\\\n",
    "g & i \\\\\n",
    "\\end{bmatrix} \\end{pmatrix}\n",
    "+ cdet\\begin{pmatrix} \\begin{bmatrix}\n",
    "d & e \\\\\n",
    "g & h \\\\\n",
    "\\end{bmatrix} \\end{pmatrix} $$\n",
    "\n",
    "\n",
    "\n",
    "\n"
   ]
  },
  {
   "cell_type": "code",
   "execution_count": 17,
   "metadata": {},
   "outputs": [
    {
     "data": {
      "text/plain": [
       "array([[1, 1, 1],\n",
       "       [3, 2, 1],\n",
       "       [2, 1, 2]])"
      ]
     },
     "execution_count": 17,
     "metadata": {},
     "output_type": "execute_result"
    }
   ],
   "source": [
    "A"
   ]
  },
  {
   "cell_type": "code",
   "execution_count": 19,
   "metadata": {},
   "outputs": [
    {
     "data": {
      "text/plain": [
       "-2.0000000000000004"
      ]
     },
     "execution_count": 19,
     "metadata": {},
     "output_type": "execute_result"
    }
   ],
   "source": [
    "np.linalg.det(A) "
   ]
  },
  {
   "cell_type": "markdown",
   "metadata": {},
   "source": [
    "To begin to unpack `inverses` take this systems of linear equation:\n",
    "\n",
    "$$\n",
    "4x + 5y = 1 $$\n",
    "$$ 2x + 7y = 2 \n",
    "$$\n",
    "\n",
    "This can be unpacked into the following:\n",
    "\n",
    "\n",
    "$$ \\begin{bmatrix}\n",
    "4 & 5 \\\\\n",
    "2 & 7 \\\\\n",
    "\\end{bmatrix}\\begin{bmatrix}\n",
    "x \\\\\n",
    "y \\\\\n",
    "\\end{bmatrix} = \\begin{bmatrix}\n",
    "1\\\\\n",
    "2\\\\\n",
    "\\end{bmatrix} $$\n",
    "Represented as \n",
    "$$ Ar=x $$\n",
    "To interpret this geometrically, here, we what to find what vector $r$ will be transformed by the matrix $A$ to give the vector $x$. To derive $r$, I introduce matrix `inverses`. If a transformation is performed by a matrix, the inverse of the matrix does the opposite such that the multiplication of both the matrix gives a matrix that _does nothing_, an `Identity matrix` which has all ones in it's diagonals with other entries filled up with zeros . Defined as such: \n",
    "$$ AA^{-1}= I $$\n",
    "\n",
    "An example of an identity matrix: \n",
    "$$ \\begin{bmatrix}\n",
    "1 & 0 & 0 \\\\\n",
    "0 & 1 & 0 \\\\\n",
    "0 & 0 & 1 \\\\\n",
    "\\end{bmatrix}\n",
    "$$\n",
    "\n",
    "As such we can multiply $A^{-1}$ to both sides of the equation, to give: \n",
    "\n",
    "$$ A^{-1}Ar=A^{-1}x $$\n",
    "\n",
    "Hence we have, \n",
    "\n",
    "$$ r=A^{-1}x $$"
   ]
  },
  {
   "cell_type": "code",
   "execution_count": 20,
   "metadata": {},
   "outputs": [
    {
     "data": {
      "text/plain": [
       "array([[4, 5],\n",
       "       [2, 7]])"
      ]
     },
     "execution_count": 20,
     "metadata": {},
     "output_type": "execute_result"
    }
   ],
   "source": [
    "B = np.array([\n",
    "    [4, 5],\n",
    "    [2, 7]])\n",
    "B"
   ]
  },
  {
   "cell_type": "code",
   "execution_count": 21,
   "metadata": {},
   "outputs": [
    {
     "data": {
      "text/plain": [
       "array([1, 2])"
      ]
     },
     "execution_count": 21,
     "metadata": {},
     "output_type": "execute_result"
    }
   ],
   "source": [
    "x = np.array([1, 2])\n",
    "x"
   ]
  },
  {
   "cell_type": "code",
   "execution_count": 25,
   "metadata": {},
   "outputs": [
    {
     "data": {
      "text/plain": [
       "array([-0.16666667,  0.33333333])"
      ]
     },
     "execution_count": 25,
     "metadata": {},
     "output_type": "execute_result"
    }
   ],
   "source": [
    "np.matmul(np.linalg.inv(B), x)"
   ]
  },
  {
   "cell_type": "markdown",
   "metadata": {},
   "source": [
    "### `Some Matrices Types`"
   ]
  },
  {
   "cell_type": "markdown",
   "metadata": {},
   "source": [
    "`Identity matrix` as described above: \n",
    "$$ \\begin{bmatrix}\n",
    "1 & 0 & 0 \\\\\n",
    "0 & 1 & 0 \\\\\n",
    "0 & 0 & 1 \\\\\n",
    "\\end{bmatrix}\n",
    "$$\n",
    "\n",
    "`Square matrix` has the same number of rows and columns: \n",
    "\n",
    "$$ \\begin{bmatrix}\n",
    "5 & 4 & 3 \\\\\n",
    "2 & 5 & 1 \\\\\n",
    "6 & 2 & 8 \\\\\n",
    "\\end{bmatrix}\n",
    "$$\n",
    "\n",
    "`Non-square matrix` has an equal number of rows and columns: \n",
    "\n",
    "$$ \\begin{bmatrix}\n",
    "5 & 4 \\\\\n",
    "2 & 5 \\\\\n",
    "6 & 2 \\\\\n",
    "\\end{bmatrix}\n",
    "$$\n",
    "\n",
    "`Diagonal matrix`: \n",
    "\n",
    "$$ \\begin{bmatrix}\n",
    "5 & 0 & 0 \\\\\n",
    "0 & 5 & 0 \\\\\n",
    "0 & 0 & 8 \\\\\n",
    "\\end{bmatrix}\n",
    "$$\n",
    "\n",
    "`Triangular matrix`: \n",
    "\n",
    "$$ \\begin{bmatrix}\n",
    "5 & 2 & 3 \\\\\n",
    "0 & 5 & 4 \\\\\n",
    "0 & 0 & 8 \\\\\n",
    "\\end{bmatrix}\n",
    "$$"
   ]
  },
  {
   "cell_type": "markdown",
   "metadata": {},
   "source": [
    "### `Matrix Changing Basis`"
   ]
  },
  {
   "cell_type": "code",
   "execution_count": null,
   "metadata": {},
   "outputs": [],
   "source": []
  },
  {
   "cell_type": "code",
   "execution_count": null,
   "metadata": {},
   "outputs": [],
   "source": []
  },
  {
   "cell_type": "code",
   "execution_count": null,
   "metadata": {},
   "outputs": [],
   "source": []
  },
  {
   "cell_type": "code",
   "execution_count": null,
   "metadata": {},
   "outputs": [],
   "source": []
  }
 ],
 "metadata": {
  "kernelspec": {
   "display_name": "Python 3",
   "language": "python",
   "name": "python3"
  },
  "language_info": {
   "codemirror_mode": {
    "name": "ipython",
    "version": 3
   },
   "file_extension": ".py",
   "mimetype": "text/x-python",
   "name": "python",
   "nbconvert_exporter": "python",
   "pygments_lexer": "ipython3",
   "version": "3.6.8"
  }
 },
 "nbformat": 4,
 "nbformat_minor": 2
}
