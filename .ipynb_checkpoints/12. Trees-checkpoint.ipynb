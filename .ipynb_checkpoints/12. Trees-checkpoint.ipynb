{
 "cells": [
  {
   "cell_type": "markdown",
   "metadata": {},
   "source": [
    "***\n",
    "\n",
    "# Decision Tree Learning\n",
    "\n",
    "Author: Olatomiwa Bifarin. <br>\n",
    "PhD Candidate Biochemistry and Molecular Biology <br>\n",
    "@ The University of Georgia\n",
    "\n",
    "_This is a draft copy, a work in progress_"
   ]
  },
  {
   "cell_type": "code",
   "execution_count": 57,
   "metadata": {},
   "outputs": [],
   "source": [
    "# More sharp and legible graphics\n",
    "%config InlineBackend.figure_format = 'retina'\n",
    "import numpy as np\n",
    "from sklearn.tree import DecisionTreeClassifier\n",
    "from scipy.stats import entropy \n",
    "import pandas as pd"
   ]
  },
  {
   "cell_type": "markdown",
   "metadata": {},
   "source": [
    "## Notebook Content\n",
    "\n",
    "1.  [Description](#1) <br>\n",
    "2.  [Building Decision Trees](#2) <br>\n",
    "    2.1 [Entropy and Information Gain](#2.1) <br>\n",
    "    2.2 [Decision Tree: A Simplified Example](#2.2) <br>\n",
    "3.  [scikit learn Implementation](#3)"
   ]
  },
  {
   "cell_type": "markdown",
   "metadata": {},
   "source": [
    "## 1. Description\n",
    "<a id=\"1\"></a>"
   ]
  },
  {
   "cell_type": "markdown",
   "metadata": {},
   "source": [
    "Here, we have another very intuitive machine learning algorithm. <br> In one sentence: A decision tree is a tree describing how a decision is made. No more, no less. \n",
    "\n",
    "<img align='center' src='datasets/random_forest/decision_tree_quora.png' width=70%/>\n",
    "\n",
    "Take the example above, if my parents are visiting, I will go to the cinema. If they are not, I ask another question: is it raining or cloudy? If it is the case that it is raining, I stay indoors. If it is not, I go shopping. In summary one could describe a decision tree as a bunch of _if-else_ statements culminating in a decision.\n",
    "\n",
    "And as you can see using this simplified example: when a machine learning algorithm predicts via a decision tree, one benefit is that it's easy to interpret how the algorithm come to a decision. In order words, interpretability is easy. This is not the case for many machine learning algorithm, as when they come to a great decision (prediction), it is could be hard - if possible at all - to interpret how the algorithm come to that decision. This is what is referred to by many as a learning algorithms being a `black box`. \n",
    "\n",
    "_Architecture, and nomenclature:_ A decision tree is an inverted tree, starting with the `root node`, this is followed by the `internal nodes` (i.e. nodes that split into other nodes). Finally, at the bottom of the tree is the leaf, or sometimes called the `leaf node`. In the example above, _parent visiting?_ is the root node, _weather_ is the internal node, and _go to cinema, stay in, go shopping_ are the leaf nodes. As you can see here, the internal node tests a feature, while the leaf node is a decision (or classification)."
   ]
  },
  {
   "cell_type": "markdown",
   "metadata": {},
   "source": [
    "## 2. Building Decision Trees\n",
    "<a id=\"2\"></a>"
   ]
  },
  {
   "cell_type": "markdown",
   "metadata": {},
   "source": [
    "Given a machine learning problem, the goal is to figure out an approximating function $f$\n",
    "\n",
    "$$ \\Large f:X\\rightarrow Y$$\n",
    "Where $X$ are the features and labels and $Y$ the predictions, and are defined as follows (in the case of a binary classification): \n",
    "\n",
    "$$X: [(x_{1},y_{1}),(x_{2},y_{2})...(x_{n},y_{n})]$$\n",
    "$$ Y = (y_{1},...,y_{n}) \\in {0,1} $$\n",
    "\n",
    "To solve the problem using decision trees, the first question that comes to mind is, how do we start building the tree? i.e. how do we choose features? To answer this question, we perhaps what to ask yet a slightly different question namely, how do we know if we have choosen a good feature? A good feature by definition is a feature that lead to the right prediction. In information theory, there are many approaches we could use, and one popular one is the following:"
   ]
  },
  {
   "cell_type": "markdown",
   "metadata": {},
   "source": [
    "### 2.1 Entropy and Information Gain\n",
    "<a id=\"2.1\"></a>"
   ]
  },
  {
   "cell_type": "markdown",
   "metadata": {},
   "source": [
    "Building our intuition on this matter at hand isn't going to a hard job afterall. In thermodynamics, entropy is a measure of the chaos in a system, and when we bring this idea into information theory: chaos becomes uncertainity; believe me, it does. Before I show this, let us define entropy mathematically: \n",
    "\n",
    "$$X = {x_{1},x_{2},...x_{n}}$$\n",
    "\n",
    "$$ \\Large H(x) = -\\sum_{i=1}^{n} p_{i}\\log_{2}(p_{i}) $$\n",
    "\n",
    "$$ \\text{Where } p_{i} = P(X = x_{i}) $$\n",
    "\n",
    "Now to show you what I mean, take an urn. This particular urn contains 3 red balls and 2 blue balls, and what is the entropy in this system? \n",
    "\n",
    "$$ - (0.6 \\log_{2}0.6 + 0.4 \\log_2{0.4}) = 0.97$$\n",
    "\n",
    "$$ \\text{Where } p(\\text{red balls}) = 0.6 \\text{ and } p(\\text{blue balls}) = 0.4 $$\n",
    "\n",
    "Remove one blue ball from that damn urn, and what is the entropy again? \n",
    "\n",
    "$$ -(0.75 \\log_{2}0.75 + 0.25 \\log_2{0.25}) = 0.82$$\n",
    "\n",
    "$$ \\text{Where } p(\\text{red balls}) = 0.75 \\text{ and } p(\\text{blue balls}) = 0.25 $$\n",
    "\n",
    "Now remove that last blue ball, and let see what we have got:\n",
    "\n",
    "$$ -1 \\log_{2}1 = 0$$\n",
    "\n",
    "$$ \\text{Where } p(\\text{red balls}) = 1 $$"
   ]
  },
  {
   "cell_type": "markdown",
   "metadata": {},
   "source": [
    "From 0.97 to 0.82, and then to 0; alas entropy = uncertainity. Now, if you think very carefully about this, as the certainity of picking a red ball increases, the entropy decreases. \n",
    "<img align='center' src='datasets/random_forest/urn.png' width=90%/>\n",
    "\n",
    "Now, here is the point. What we WANT in a decision tree is to reduce the uncertainity (entropy) as we go down the tree. Isn't it? \n",
    "\n",
    "At the bottom of our upside-down tree, we have the leaf! Which is supposed to be the prediction! The reduction in entropy as we go down a good decision tree is called `information gain`. If we go back to our initial question:  _how do we know if we have choosen a good feature as a root node or to split a node?_ Friends, we have the answer: `It is the feature with the highest information gain.`\n",
    "\n",
    "We define it as the following: \n",
    "\n",
    "$$ \\Large \\mbox{IG}(x) = \\mbox{Info}(D) - \\mbox{Info}_{x}(D) $$\n",
    "\n",
    "$$ \\Large \\mbox{Where: } \\mbox{Info}(D) = -\\sum_{i=1}^{n} p_{i}\\log_{2}(p_{i})$$\n",
    "\n",
    "$$ \\Large \\mbox{Info}_{x}(D) = -\\sum_{i=1}^{j} \\frac{|D_{i}|}{|D|} \\times \\mbox{Info}(D_{i})$$"
   ]
  },
  {
   "cell_type": "markdown",
   "metadata": {},
   "source": [
    "### 2.2 Decision Tree: A Simplified Example\n",
    "<a id=\"2.2\"></a>"
   ]
  },
  {
   "cell_type": "markdown",
   "metadata": {},
   "source": [
    "Next, we will attempt to construct a decision tree for the famous PlayTennis dataset (shown in Figure below), by using Information Gain to select features for data splitting. The features are: “Outlook”, “Temperature”, “Humidity” and “Wind”; while the label is “PlayTennis?”."
   ]
  },
  {
   "cell_type": "markdown",
   "metadata": {},
   "source": [
    "<img align='center' src='datasets/random_forest/tennis_dataset.png' width=50%/>"
   ]
  },
  {
   "cell_type": "markdown",
   "metadata": {},
   "source": [
    "Recall that Entropy is defined as: \n",
    "$$ -\\sum_{k} p_k log_2 p_k $$\n",
    "\n",
    "This we can be computed using the scipy library function `entropy` "
   ]
  },
  {
   "cell_type": "markdown",
   "metadata": {},
   "source": [
    "To select the root node, we need to evaluate the information gain regarding each feature. The first step will be to set up a contigency table for each of the features against play tennis data, and then compute the information gain. "
   ]
  },
  {
   "cell_type": "markdown",
   "metadata": {},
   "source": [
    "**_InfoGain_(Outlook)** <br>\n",
    "_Outlook vs Play Tennis: Contigency table_"
   ]
  },
  {
   "cell_type": "code",
   "execution_count": 6,
   "metadata": {},
   "outputs": [
    {
     "name": "stdout",
     "output_type": "stream",
     "text": [
      "Outlook VS Play Tennis\n"
     ]
    },
    {
     "data": {
      "text/html": [
       "<div>\n",
       "<style scoped>\n",
       "    .dataframe tbody tr th:only-of-type {\n",
       "        vertical-align: middle;\n",
       "    }\n",
       "\n",
       "    .dataframe tbody tr th {\n",
       "        vertical-align: top;\n",
       "    }\n",
       "\n",
       "    .dataframe thead th {\n",
       "        text-align: right;\n",
       "    }\n",
       "</style>\n",
       "<table border=\"1\" class=\"dataframe\">\n",
       "  <thead>\n",
       "    <tr style=\"text-align: right;\">\n",
       "      <th></th>\n",
       "      <th>Yes</th>\n",
       "      <th>No</th>\n",
       "    </tr>\n",
       "    <tr>\n",
       "      <th>Index</th>\n",
       "      <th></th>\n",
       "      <th></th>\n",
       "    </tr>\n",
       "  </thead>\n",
       "  <tbody>\n",
       "    <tr>\n",
       "      <th>sunny</th>\n",
       "      <td>2</td>\n",
       "      <td>3</td>\n",
       "    </tr>\n",
       "    <tr>\n",
       "      <th>overcast</th>\n",
       "      <td>4</td>\n",
       "      <td>0</td>\n",
       "    </tr>\n",
       "    <tr>\n",
       "      <th>rainy</th>\n",
       "      <td>3</td>\n",
       "      <td>2</td>\n",
       "    </tr>\n",
       "  </tbody>\n",
       "</table>\n",
       "</div>"
      ],
      "text/plain": [
       "          Yes  No\n",
       "Index            \n",
       "sunny       2   3\n",
       "overcast    4   0\n",
       "rainy       3   2"
      ]
     },
     "execution_count": 6,
     "metadata": {},
     "output_type": "execute_result"
    }
   ],
   "source": [
    "d = {'Index': ['sunny', 'overcast', 'rainy'], \n",
    "    'Yes': [2, 4, 3], \n",
    "    'No': [3, 0, 2]}\n",
    "Oplay = pd.DataFrame(d).set_index('Index')\n",
    "print('Outlook VS Play Tennis')\n",
    "Oplay"
   ]
  },
  {
   "cell_type": "markdown",
   "metadata": {},
   "source": [
    "In the calculations that follows: <br>\n",
    "E = Entropy <br>\n",
    "P = Probability\n",
    "\n",
    "Again recall: <br>\n",
    "\n",
    "$ \\mbox{IG}(x) = \\mbox{Info}(D) - \\mbox{Info}_{x}(D) $\n",
    "\n",
    "$ \\mbox{Where: } \\mbox{Info}(D) = -\\sum_{i=1}^{n} p_{i}\\log_{2}(p_{i}) $\n",
    "\n",
    "$ \\mbox{Info}_{x}(D) = -\\sum_{i=1}^{j} \\frac{|D_{i}|}{|D|} \\times \\mbox{Info}(D_{i})$\n",
    "\n",
    "Calculations:\n",
    "$$ \\mbox{E(PlayTennis, outlook) = P(sunny)} \\times \\mbox {E(2,3) + P(overcast)} \\times \\mbox {E(4,0) + P(rainy)} \\times \\mbox{E(3,2)} $$\n",
    "\n",
    "$$ = 5/14 \\times (0.971) + 4/14 \\times (0) + 5/14 \\times (0.971) $$\n",
    "\n",
    "$$ = 0.6936 $$\n",
    "\n",
    "$$ \\mbox{infoGain(outlook) = E(PlayTennis)} - \\mbox{E(PlayTennis, Outlook)} $$\n",
    "$$ = 0.94 - 0.69 = 0.25 $$"
   ]
  },
  {
   "cell_type": "code",
   "execution_count": 12,
   "metadata": {},
   "outputs": [
    {
     "name": "stdout",
     "output_type": "stream",
     "text": [
      "E(PlayTennis, outlook) is  0.69\n"
     ]
    }
   ],
   "source": [
    "# code\n",
    "playT_outlook = 5/14*(entropy([2, 3], base=2)) + 4/14*(entropy([4, 0], base=2)) + 5/14*(entropy([3, 2], base=2))\n",
    "print (\"E(PlayTennis, outlook) is \", round(playT_outlook, 2))"
   ]
  },
  {
   "cell_type": "code",
   "execution_count": 16,
   "metadata": {},
   "outputs": [
    {
     "name": "stdout",
     "output_type": "stream",
     "text": [
      "E(PlayTennis) is  0.94\n"
     ]
    }
   ],
   "source": [
    "PlayT = (entropy([9, 5], base=2))\n",
    "print (\"E(PlayTennis) is \", round(PlayT, 2))"
   ]
  },
  {
   "cell_type": "code",
   "execution_count": 18,
   "metadata": {},
   "outputs": [
    {
     "name": "stdout",
     "output_type": "stream",
     "text": [
      "infogain(outlook) is  0.25\n"
     ]
    }
   ],
   "source": [
    "IGoutlook = PlayT - playT_outlook\n",
    "print (\"infogain(outlook) is \", round(IGoutlook, 2))"
   ]
  },
  {
   "cell_type": "markdown",
   "metadata": {},
   "source": [
    "**_InfoGain_(Temperature)** <br>\n",
    "_Temperature vs Play Tennis: Contigency table_"
   ]
  },
  {
   "cell_type": "code",
   "execution_count": 19,
   "metadata": {},
   "outputs": [
    {
     "name": "stdout",
     "output_type": "stream",
     "text": [
      "Temperature VS Play Tennis\n"
     ]
    },
    {
     "data": {
      "text/html": [
       "<div>\n",
       "<style scoped>\n",
       "    .dataframe tbody tr th:only-of-type {\n",
       "        vertical-align: middle;\n",
       "    }\n",
       "\n",
       "    .dataframe tbody tr th {\n",
       "        vertical-align: top;\n",
       "    }\n",
       "\n",
       "    .dataframe thead th {\n",
       "        text-align: right;\n",
       "    }\n",
       "</style>\n",
       "<table border=\"1\" class=\"dataframe\">\n",
       "  <thead>\n",
       "    <tr style=\"text-align: right;\">\n",
       "      <th></th>\n",
       "      <th>Yes</th>\n",
       "      <th>No</th>\n",
       "    </tr>\n",
       "    <tr>\n",
       "      <th>Index</th>\n",
       "      <th></th>\n",
       "      <th></th>\n",
       "    </tr>\n",
       "  </thead>\n",
       "  <tbody>\n",
       "    <tr>\n",
       "      <th>Cool</th>\n",
       "      <td>3</td>\n",
       "      <td>1</td>\n",
       "    </tr>\n",
       "    <tr>\n",
       "      <th>Mild</th>\n",
       "      <td>4</td>\n",
       "      <td>2</td>\n",
       "    </tr>\n",
       "    <tr>\n",
       "      <th>Hot</th>\n",
       "      <td>2</td>\n",
       "      <td>2</td>\n",
       "    </tr>\n",
       "  </tbody>\n",
       "</table>\n",
       "</div>"
      ],
      "text/plain": [
       "       Yes  No\n",
       "Index         \n",
       "Cool     3   1\n",
       "Mild     4   2\n",
       "Hot      2   2"
      ]
     },
     "execution_count": 19,
     "metadata": {},
     "output_type": "execute_result"
    }
   ],
   "source": [
    "d = {'Index': ['Cool', 'Mild', 'Hot'], \n",
    "    'Yes': [3, 4, 2], \n",
    "    'No': [1, 2, 2]}\n",
    "Tplay = pd.DataFrame(d).set_index('Index')\n",
    "print('Temperature VS Play Tennis')\n",
    "Tplay"
   ]
  },
  {
   "cell_type": "markdown",
   "metadata": {},
   "source": [
    "$$ \\mbox{E(PlayTennis, temperature) = P(cool)E(3,1) + P(mild)E(4,2) + P(hot)E(2,2)} $$\n",
    "\n",
    "$$ = 0.911 $$\n",
    "\n",
    "$$ \\mbox {infoGain(temperature) = H(PlayTennis) - E(PlayTennis, temperature)} $$\n",
    "\n",
    "$$ = 0.94 - 0.91 = 0.03 $$"
   ]
  },
  {
   "cell_type": "code",
   "execution_count": 22,
   "metadata": {},
   "outputs": [
    {
     "name": "stdout",
     "output_type": "stream",
     "text": [
      "E(PlayTennis, temperature) is  0.91\n"
     ]
    }
   ],
   "source": [
    "PlayT_Temp = 4/14*(entropy([3, 1], base=2)) + 6/14*(entropy([4, 2], base=2)) + 4/14*(entropy([2, 2], base=2))\n",
    "print (\"E(PlayTennis, temperature) is \", round(PlayT_Temp, 2))"
   ]
  },
  {
   "cell_type": "code",
   "execution_count": 24,
   "metadata": {},
   "outputs": [
    {
     "name": "stdout",
     "output_type": "stream",
     "text": [
      "infogain(temperature) is  0.03\n"
     ]
    }
   ],
   "source": [
    "IGTemp = PlayT - PlayT_Temp\n",
    "print (\"infogain(temperature) is \", round(IGTemp, 2))"
   ]
  },
  {
   "cell_type": "markdown",
   "metadata": {},
   "source": [
    "**_InfoGain_(Humidity)** <br>\n",
    "_Humidity vs Play Tennis: Contigency table_"
   ]
  },
  {
   "cell_type": "code",
   "execution_count": 25,
   "metadata": {},
   "outputs": [
    {
     "name": "stdout",
     "output_type": "stream",
     "text": [
      "Humidity VS Play Tennis\n"
     ]
    },
    {
     "data": {
      "text/html": [
       "<div>\n",
       "<style scoped>\n",
       "    .dataframe tbody tr th:only-of-type {\n",
       "        vertical-align: middle;\n",
       "    }\n",
       "\n",
       "    .dataframe tbody tr th {\n",
       "        vertical-align: top;\n",
       "    }\n",
       "\n",
       "    .dataframe thead th {\n",
       "        text-align: right;\n",
       "    }\n",
       "</style>\n",
       "<table border=\"1\" class=\"dataframe\">\n",
       "  <thead>\n",
       "    <tr style=\"text-align: right;\">\n",
       "      <th></th>\n",
       "      <th>Yes</th>\n",
       "      <th>No</th>\n",
       "    </tr>\n",
       "    <tr>\n",
       "      <th>Index</th>\n",
       "      <th></th>\n",
       "      <th></th>\n",
       "    </tr>\n",
       "  </thead>\n",
       "  <tbody>\n",
       "    <tr>\n",
       "      <th>Normal</th>\n",
       "      <td>6</td>\n",
       "      <td>1</td>\n",
       "    </tr>\n",
       "    <tr>\n",
       "      <th>High</th>\n",
       "      <td>3</td>\n",
       "      <td>4</td>\n",
       "    </tr>\n",
       "  </tbody>\n",
       "</table>\n",
       "</div>"
      ],
      "text/plain": [
       "        Yes  No\n",
       "Index          \n",
       "Normal    6   1\n",
       "High      3   4"
      ]
     },
     "execution_count": 25,
     "metadata": {},
     "output_type": "execute_result"
    }
   ],
   "source": [
    "d = {'Index': ['Normal', 'High'], \n",
    "    'Yes': [6, 3], \n",
    "    'No': [1, 4]}\n",
    "Hplay = pd.DataFrame(d).set_index('Index')\n",
    "print('Humidity VS Play Tennis')\n",
    "Hplay"
   ]
  },
  {
   "cell_type": "markdown",
   "metadata": {},
   "source": [
    "$$ \\mbox{E(PlayTennis, humidity) = P(normal)E(6,1) + P(high)E(3,4)}$$\n",
    "\n",
    "$$ = 0.79 $$\n",
    "\n",
    "$$ \\mbox{infoGain(humidity) = H(PlayTennis) - E(PlayTennis, humidity)} $$\n",
    "\n",
    "$$ = 0.94 - 0.79 = 0.15 $$"
   ]
  },
  {
   "cell_type": "code",
   "execution_count": 26,
   "metadata": {},
   "outputs": [
    {
     "name": "stdout",
     "output_type": "stream",
     "text": [
      "E(PlayTennis, Humidity) is  0.79\n"
     ]
    }
   ],
   "source": [
    "PlayT_Hum = 7/14*(entropy([6, 1], base=2)) + 7/14*(entropy([3, 4], base=2))\n",
    "print (\"E(PlayTennis, Humidity) is \", round(PlayT_Hum, 2))"
   ]
  },
  {
   "cell_type": "code",
   "execution_count": 27,
   "metadata": {},
   "outputs": [
    {
     "name": "stdout",
     "output_type": "stream",
     "text": [
      "infogain(temperature) is  0.15\n"
     ]
    }
   ],
   "source": [
    "IGHum = PlayT - PlayT_Hum\n",
    "IGHum\n",
    "print (\"infogain(temperature) is \", round(IGHum, 2))"
   ]
  },
  {
   "cell_type": "markdown",
   "metadata": {},
   "source": [
    "**_InfoGain_(Wind)** <br>\n",
    "_Wind vs Play Tennis: Contigency table_"
   ]
  },
  {
   "cell_type": "code",
   "execution_count": 29,
   "metadata": {},
   "outputs": [
    {
     "name": "stdout",
     "output_type": "stream",
     "text": [
      "Wind VS Play Tennis\n"
     ]
    },
    {
     "data": {
      "text/html": [
       "<div>\n",
       "<style scoped>\n",
       "    .dataframe tbody tr th:only-of-type {\n",
       "        vertical-align: middle;\n",
       "    }\n",
       "\n",
       "    .dataframe tbody tr th {\n",
       "        vertical-align: top;\n",
       "    }\n",
       "\n",
       "    .dataframe thead th {\n",
       "        text-align: right;\n",
       "    }\n",
       "</style>\n",
       "<table border=\"1\" class=\"dataframe\">\n",
       "  <thead>\n",
       "    <tr style=\"text-align: right;\">\n",
       "      <th></th>\n",
       "      <th>Yes</th>\n",
       "      <th>No</th>\n",
       "    </tr>\n",
       "    <tr>\n",
       "      <th>Index</th>\n",
       "      <th></th>\n",
       "      <th></th>\n",
       "    </tr>\n",
       "  </thead>\n",
       "  <tbody>\n",
       "    <tr>\n",
       "      <th>Weak</th>\n",
       "      <td>6</td>\n",
       "      <td>2</td>\n",
       "    </tr>\n",
       "    <tr>\n",
       "      <th>Strong</th>\n",
       "      <td>3</td>\n",
       "      <td>3</td>\n",
       "    </tr>\n",
       "  </tbody>\n",
       "</table>\n",
       "</div>"
      ],
      "text/plain": [
       "        Yes  No\n",
       "Index          \n",
       "Weak      6   2\n",
       "Strong    3   3"
      ]
     },
     "execution_count": 29,
     "metadata": {},
     "output_type": "execute_result"
    }
   ],
   "source": [
    "d = {'Index': ['Weak', 'Strong'], \n",
    "    'Yes': [6, 3], \n",
    "    'No': [2, 3]}\n",
    "Wplay = pd.DataFrame(d).set_index('Index')\n",
    "print('Wind VS Play Tennis')\n",
    "Wplay"
   ]
  },
  {
   "cell_type": "markdown",
   "metadata": {},
   "source": [
    "$$ \\mbox{E(PlayTennis, wind) = P(weak)E(6,2) + P(strong)E(3,3)}$$\n",
    "\n",
    "$$ = 0.89 $$\n",
    "\n",
    "$$ \\mbox{infoGain(humidity) = H(PlayTennis) - E(PlayTennis, humidity)} $$\n",
    "\n",
    "$$ = 0.94 - 0.89 = 0.05 $$"
   ]
  },
  {
   "cell_type": "code",
   "execution_count": 30,
   "metadata": {},
   "outputs": [
    {
     "name": "stdout",
     "output_type": "stream",
     "text": [
      "E(PlayTennis, Wind) is  0.89\n"
     ]
    }
   ],
   "source": [
    "PlayT_Wind = 8/14*(entropy([6, 2], base=2)) + 6/14*(entropy([3, 3], base=2))\n",
    "print (\"E(PlayTennis, Wind) is \", round(PlayT_Wind, 2))"
   ]
  },
  {
   "cell_type": "code",
   "execution_count": 32,
   "metadata": {},
   "outputs": [
    {
     "name": "stdout",
     "output_type": "stream",
     "text": [
      "infogain(wind)is  0.05\n"
     ]
    }
   ],
   "source": [
    "IGWind = PlayT - PlayT_Wind\n",
    "print (\"infogain(wind)is \", round(IGWind, 2))"
   ]
  },
  {
   "cell_type": "markdown",
   "metadata": {},
   "source": [
    "**root node**"
   ]
  },
  {
   "cell_type": "code",
   "execution_count": 33,
   "metadata": {},
   "outputs": [
    {
     "name": "stdout",
     "output_type": "stream",
     "text": [
      "infogain(outlook) is  0.25\n",
      "infogain(temperature) is  0.03\n",
      "infogain(temperature) is  0.15\n",
      "infogain(wind)is  0.05\n"
     ]
    }
   ],
   "source": [
    "print (\"infogain(outlook) is \", round(IGoutlook, 2))\n",
    "print (\"infogain(temperature) is \", round(IGTemp, 2))\n",
    "print (\"infogain(temperature) is \", round(IGHum, 2))\n",
    "print (\"infogain(wind)is \", round(IGWind, 2))"
   ]
  },
  {
   "cell_type": "markdown",
   "metadata": {},
   "source": [
    "Because the feature `outlook` has the highest information gain (that is, reduces the entropy in the system the most). This will be the root node. \n",
    "\n",
    "Next, we ask the relevant question: is it overcast, rainy, or cloudy. Each of this path is followed, and then we go back to selecting the feature with the highest information gain, until we arrive at an answer.\n",
    "\n",
    "Here is what the final solution might look like:"
   ]
  },
  {
   "cell_type": "markdown",
   "metadata": {},
   "source": [
    "<img align='center' src='datasets/random_forest/playtennis_result.png' width=80%/>"
   ]
  },
  {
   "cell_type": "markdown",
   "metadata": {},
   "source": [
    "## 3. Scikit learn Implementation and Decision Boundaries\n",
    "<a id=\"3\"></a>"
   ]
  },
  {
   "cell_type": "markdown",
   "metadata": {},
   "source": [
    "In this session, I am going to use the iris datasets to illustrate decision tree implementation in Scikit-learn and to display decision boundaries. "
   ]
  },
  {
   "cell_type": "code",
   "execution_count": 34,
   "metadata": {},
   "outputs": [
    {
     "name": "stdout",
     "output_type": "stream",
     "text": [
      "data shape is (150, 4)\n",
      "class shape is (150,)\n"
     ]
    }
   ],
   "source": [
    "from matplotlib.colors import ListedColormap\n",
    "from sklearn import neighbors, datasets\n",
    "iris = datasets.load_iris()\n",
    "print('data shape is {}'.format(iris.data.shape))\n",
    "print('class shape is {}'.format(iris.target.shape))"
   ]
  },
  {
   "cell_type": "markdown",
   "metadata": {},
   "source": [
    "I will be using the first two dimensions of the dataset: Sepal width and sepal length.\n",
    "\n",
    "Classes: Iris Setosa, Iris Versicolor, Iris Virginica"
   ]
  },
  {
   "cell_type": "code",
   "execution_count": 35,
   "metadata": {},
   "outputs": [],
   "source": [
    "X = iris.data[:, :2] # first two\n",
    "y = iris.target # Label"
   ]
  },
  {
   "cell_type": "code",
   "execution_count": 39,
   "metadata": {},
   "outputs": [
    {
     "data": {
      "image/png": "[encoded data removed]",
      "text/plain": [
       "<Figure size 432x432 with 1 Axes>"
      ]
     },
     "metadata": {
      "image/png": {
       "height": 370,
       "width": 385
      },
      "needs_background": "light"
     },
     "output_type": "display_data"
    }
   ],
   "source": [
    "import matplotlib.pyplot as plt\n",
    "from matplotlib.colors import ListedColormap\n",
    "from sklearn import neighbors, datasets\n",
    "iris = datasets.load_iris()\n",
    "cmap_light = ListedColormap(['#FFAAAA', '#AAFFAA', '#AAAAFF'])\n",
    "cmap_bold = ListedColormap(['#FF0000',  '#00FF00', '#0000FF'])\n",
    "\n",
    "K = 3\n",
    "x = X[-1]\n",
    "\n",
    "fig, ax = plt.subplots(figsize=(6,6))\n",
    "for i, iris_class in enumerate(['Iris Setosa', 'Iris Versicolor', 'Iris Virginica']):\n",
    "    idx = y==i\n",
    "    ax.scatter(X[idx,0], X[idx,1], \n",
    "               c=cmap_bold.colors[i], edgecolor='k', \n",
    "               s=40, label=iris_class);\n",
    "ax.set(xlabel='sepal length (cm)', ylabel='sepal width (cm)')\n",
    "ax.legend();"
   ]
  },
  {
   "cell_type": "code",
   "execution_count": 43,
   "metadata": {},
   "outputs": [],
   "source": [
    "clf = DecisionTreeClassifier(criterion = 'entropy') # Criterion = Entropy"
   ]
  },
  {
   "cell_type": "markdown",
   "metadata": {},
   "source": [
    "### Decision Boundaries"
   ]
  },
  {
   "cell_type": "code",
   "execution_count": 58,
   "metadata": {},
   "outputs": [
    {
     "data": {
      "text/plain": [
       "<Figure size 432x288 with 0 Axes>"
      ]
     },
     "metadata": {},
     "output_type": "display_data"
    },
    {
     "data": {
      "image/png": "[encoded data removed]",
      "text/plain": [
       "<Figure size 720x720 with 1 Axes>"
      ]
     },
     "metadata": {
      "image/png": {
       "height": 590,
       "width": 595
      },
      "needs_background": "light"
     },
     "output_type": "display_data"
    }
   ],
   "source": [
    "clf.fit(X, y)\n",
    "\n",
    "# step size in mesh\n",
    "h = 0.02\n",
    "\n",
    "# decision boundary\n",
    "x_min, x_max = X[:, 0].min() - 1, X[:, 0].max() + 1\n",
    "y_min, y_max = X[:, 1].min() - 1, X[:, 1].max() + 1\n",
    "    \n",
    "xx, yy = np.meshgrid(np.arange(x_min, x_max, h),\n",
    "                        np.arange(y_min, y_max, h))\n",
    "Z = clf.predict(np.c_[xx.ravel(), yy.ravel()])\n",
    "    \n",
    "# Put the result into a color plot\n",
    "Z = Z.reshape(xx.shape)\n",
    "plt.figure()\n",
    "plt.figure(figsize=(10,10))\n",
    "plt.pcolormesh(xx, yy, Z, cmap=cmap_light)\n",
    "    \n",
    "# Plot points\n",
    "plt.scatter(X[:, 0], X[:, 1], c=y, cmap=cmap_bold)\n",
    "plt.xlim(xx.min(), xx.max())\n",
    "plt.ylim(yy.min(), yy.max())\n",
    "plt.title(\"Decision Tree\")\n",
    "\n",
    "plt.show();"
   ]
  },
  {
   "cell_type": "markdown",
   "metadata": {},
   "source": [
    "## References and Resources\n",
    "- J. Ross Quinlan, Induction of Decision Trees, _Machine Learning_ Vol 1. Pp 81-106. 1986\n",
    "- __[StatQuest: Decision Trees](https://www.youtube.com/watch?v=7VeUPuFGJHk&list=PLblh5JKOoLUICTaGLRoHQDuF_7q2GfuJF&index=38)__\n",
    "- __[Hal Daumé III, Decision Trees _A Course in Machine Learning_](http://ciml.info/dl/v0_99/ciml-v0_99-ch01.pdf)__"
   ]
  },
  {
   "cell_type": "code",
   "execution_count": null,
   "metadata": {},
   "outputs": [],
   "source": []
  }
 ],
 "metadata": {
  "kernelspec": {
   "display_name": "Python 3",
   "language": "python",
   "name": "python3"
  },
  "language_info": {
   "codemirror_mode": {
    "name": "ipython",
    "version": 3
   },
   "file_extension": ".py",
   "mimetype": "text/x-python",
   "name": "python",
   "nbconvert_exporter": "python",
   "pygments_lexer": "ipython3",
   "version": "3.6.8"
  }
 },
 "nbformat": 4,
 "nbformat_minor": 2
}
