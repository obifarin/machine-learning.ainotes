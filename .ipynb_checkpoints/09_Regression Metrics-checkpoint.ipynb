{
 "cells": [
  {
   "cell_type": "markdown",
   "metadata": {},
   "source": [
    "# Regression Metrics\n",
    "\n",
    "Olatomiwa Bifarin. <br>\n",
    "PhD Candidate Biochemistry and Molecular Biology <br>\n",
    "@ The University of Georgia\n",
    "\n",
    "_This is a draft copy, a work in progress_"
   ]
  },
  {
   "cell_type": "code",
   "execution_count": 1,
   "metadata": {},
   "outputs": [],
   "source": [
    "import numpy as np\n",
    "import pandas as pd\n",
    "from matplotlib import pyplot as plt\n",
    "from matplotlib import style\n",
    "#For Seaborn plots\n",
    "import seaborn as sns; sns.set(style='white')\n",
    "\n",
    "# Disable warnings in Anaconda\n",
    "import warnings\n",
    "warnings.filterwarnings('ignore')\n",
    "\n",
    "# More sharp and legible graphics\n",
    "%config InlineBackend.figure_format = 'retina'\n",
    "\n",
    "import time\n",
    "\n",
    "# Set seaborn figure labels to 'talk', to be more visible. \n",
    "sns.set_context('talk', font_scale=0.8)"
   ]
  },
  {
   "cell_type": "markdown",
   "metadata": {},
   "source": [
    "## Notebook Outline\n",
    "- [Load Boston Housing Dataset](#1)\n",
    "- [Features and Targets](#2)\n",
    "- [Training and Test Split](#3)\n",
    "- [Prediction with Regressors](#4)\n",
    "- [Max Error](#5)\n",
    "- [Mean Absolute Error](#6)\n",
    "- [Mean Absolute Percentage Error](#7)\n",
    "- [Mean Square Error](#8)\n",
    "- [Coefficient of Determination](#9)\n",
    "- [Residual Plots](#10)\n",
    "- [References and Resources](#11)\n"
   ]
  },
  {
   "cell_type": "markdown",
   "metadata": {},
   "source": [
    "In my last notebook we looked at a classification problem, and we defined many classification metrics. In this notebook, we will go through some regression metrics. Recall that in regression, the response value is continuous (and not categorical), as such different kind of prediction assessment will come into play. \n",
    "\n",
    "The dataset we will be working with is called the `boston` dataset. It was collected by the US census sevice and it regards housing data in boston. We will be predicting the house prices (median price of a home) using features like: crime rate, number of rooms in apartments, e.t.c."
   ]
  },
  {
   "cell_type": "markdown",
   "metadata": {},
   "source": [
    "### 1. Load Boston Housing Dataset\n",
    "<a id=\"1\"></a>"
   ]
  },
  {
   "cell_type": "code",
   "execution_count": 2,
   "metadata": {},
   "outputs": [
    {
     "data": {
      "text/html": [
       "<div>\n",
       "<style scoped>\n",
       "    .dataframe tbody tr th:only-of-type {\n",
       "        vertical-align: middle;\n",
       "    }\n",
       "\n",
       "    .dataframe tbody tr th {\n",
       "        vertical-align: top;\n",
       "    }\n",
       "\n",
       "    .dataframe thead th {\n",
       "        text-align: right;\n",
       "    }\n",
       "</style>\n",
       "<table border=\"1\" class=\"dataframe\">\n",
       "  <thead>\n",
       "    <tr style=\"text-align: right;\">\n",
       "      <th></th>\n",
       "      <th>CRIM</th>\n",
       "      <th>ZN</th>\n",
       "      <th>INDUS</th>\n",
       "      <th>CHAS</th>\n",
       "      <th>NOX</th>\n",
       "      <th>RM</th>\n",
       "      <th>AGE</th>\n",
       "      <th>DIS</th>\n",
       "      <th>RAD</th>\n",
       "      <th>TAX</th>\n",
       "      <th>PTRATIO</th>\n",
       "      <th>B</th>\n",
       "      <th>LSTAT</th>\n",
       "    </tr>\n",
       "  </thead>\n",
       "  <tbody>\n",
       "    <tr>\n",
       "      <th>0</th>\n",
       "      <td>0.00632</td>\n",
       "      <td>18.0</td>\n",
       "      <td>2.31</td>\n",
       "      <td>0.0</td>\n",
       "      <td>0.538</td>\n",
       "      <td>6.575</td>\n",
       "      <td>65.2</td>\n",
       "      <td>4.0900</td>\n",
       "      <td>1.0</td>\n",
       "      <td>296.0</td>\n",
       "      <td>15.3</td>\n",
       "      <td>396.90</td>\n",
       "      <td>4.98</td>\n",
       "    </tr>\n",
       "    <tr>\n",
       "      <th>1</th>\n",
       "      <td>0.02731</td>\n",
       "      <td>0.0</td>\n",
       "      <td>7.07</td>\n",
       "      <td>0.0</td>\n",
       "      <td>0.469</td>\n",
       "      <td>6.421</td>\n",
       "      <td>78.9</td>\n",
       "      <td>4.9671</td>\n",
       "      <td>2.0</td>\n",
       "      <td>242.0</td>\n",
       "      <td>17.8</td>\n",
       "      <td>396.90</td>\n",
       "      <td>9.14</td>\n",
       "    </tr>\n",
       "    <tr>\n",
       "      <th>2</th>\n",
       "      <td>0.02729</td>\n",
       "      <td>0.0</td>\n",
       "      <td>7.07</td>\n",
       "      <td>0.0</td>\n",
       "      <td>0.469</td>\n",
       "      <td>7.185</td>\n",
       "      <td>61.1</td>\n",
       "      <td>4.9671</td>\n",
       "      <td>2.0</td>\n",
       "      <td>242.0</td>\n",
       "      <td>17.8</td>\n",
       "      <td>392.83</td>\n",
       "      <td>4.03</td>\n",
       "    </tr>\n",
       "    <tr>\n",
       "      <th>3</th>\n",
       "      <td>0.03237</td>\n",
       "      <td>0.0</td>\n",
       "      <td>2.18</td>\n",
       "      <td>0.0</td>\n",
       "      <td>0.458</td>\n",
       "      <td>6.998</td>\n",
       "      <td>45.8</td>\n",
       "      <td>6.0622</td>\n",
       "      <td>3.0</td>\n",
       "      <td>222.0</td>\n",
       "      <td>18.7</td>\n",
       "      <td>394.63</td>\n",
       "      <td>2.94</td>\n",
       "    </tr>\n",
       "    <tr>\n",
       "      <th>4</th>\n",
       "      <td>0.06905</td>\n",
       "      <td>0.0</td>\n",
       "      <td>2.18</td>\n",
       "      <td>0.0</td>\n",
       "      <td>0.458</td>\n",
       "      <td>7.147</td>\n",
       "      <td>54.2</td>\n",
       "      <td>6.0622</td>\n",
       "      <td>3.0</td>\n",
       "      <td>222.0</td>\n",
       "      <td>18.7</td>\n",
       "      <td>396.90</td>\n",
       "      <td>5.33</td>\n",
       "    </tr>\n",
       "  </tbody>\n",
       "</table>\n",
       "</div>"
      ],
      "text/plain": [
       "      CRIM    ZN  INDUS  CHAS    NOX     RM   AGE     DIS  RAD    TAX  \\\n",
       "0  0.00632  18.0   2.31   0.0  0.538  6.575  65.2  4.0900  1.0  296.0   \n",
       "1  0.02731   0.0   7.07   0.0  0.469  6.421  78.9  4.9671  2.0  242.0   \n",
       "2  0.02729   0.0   7.07   0.0  0.469  7.185  61.1  4.9671  2.0  242.0   \n",
       "3  0.03237   0.0   2.18   0.0  0.458  6.998  45.8  6.0622  3.0  222.0   \n",
       "4  0.06905   0.0   2.18   0.0  0.458  7.147  54.2  6.0622  3.0  222.0   \n",
       "\n",
       "   PTRATIO       B  LSTAT  \n",
       "0     15.3  396.90   4.98  \n",
       "1     17.8  396.90   9.14  \n",
       "2     17.8  392.83   4.03  \n",
       "3     18.7  394.63   2.94  \n",
       "4     18.7  396.90   5.33  "
      ]
     },
     "execution_count": 2,
     "metadata": {},
     "output_type": "execute_result"
    }
   ],
   "source": [
    "from sklearn.datasets import load_boston\n",
    "data = load_boston()\n",
    "X = data[\"data\"]\n",
    "y = data[\"target\"]\n",
    "feature_names = data[\"feature_names\"]\n",
    "\n",
    "df = pd.DataFrame(data=X, columns=feature_names)\n",
    "df.head()"
   ]
  },
  {
   "cell_type": "markdown",
   "metadata": {},
   "source": [
    "### 2. Features and target\n",
    "<a id=\"2\"></a>"
   ]
  },
  {
   "cell_type": "code",
   "execution_count": 3,
   "metadata": {},
   "outputs": [
    {
     "data": {
      "text/plain": [
       "Index(['CRIM', 'ZN', 'INDUS', 'CHAS', 'NOX', 'RM', 'AGE', 'DIS', 'RAD', 'TAX',\n",
       "       'PTRATIO', 'B', 'LSTAT'],\n",
       "      dtype='object')"
      ]
     },
     "execution_count": 3,
     "metadata": {},
     "output_type": "execute_result"
    }
   ],
   "source": [
    "# 13 The features\n",
    "df.columns"
   ]
  },
  {
   "cell_type": "markdown",
   "metadata": {},
   "source": [
    "`CRIM` - per capita crime rate by town <br>\n",
    "`ZN` - proportion of residential land zoned for lots over 25,000 sq.ft. <br>\n",
    "`INDUS` - proportion of non-retail business acres per town. <br>\n",
    "`CHAS` - Charles River dummy variable (1 if tract bounds river; 0 otherwise) <br>\n",
    "`NOX` - nitric oxides concentration (parts per 10 million) <br>\n",
    "`RM` - average number of rooms per dwelling <br>\n",
    "`AGE` - proportion of owner-occupied units built prior to 1940 <br>\n",
    "`DIS` - weighted distances to five Boston employment centres <br>\n",
    "`RAD` - index of accessibility to radial highways <br>\n",
    "`TAX` - full-value property-tax rate per 10,000 dollars <br>\n",
    "`PTRATIO` - pupil-teacher ratio by town <br>\n",
    "`B` - $1000(Bk - 0.63)^2$ where $Bk$ is the proportion of blacks by town <br>\n",
    "`LSTAT` - percentage lower status of the population <br>"
   ]
  },
  {
   "cell_type": "code",
   "execution_count": 4,
   "metadata": {},
   "outputs": [
    {
     "data": {
      "text/plain": [
       "(506, 13)"
      ]
     },
     "execution_count": 4,
     "metadata": {},
     "output_type": "execute_result"
    }
   ],
   "source": [
    "# The dimension of the feature table\n",
    "X.shape"
   ]
  },
  {
   "cell_type": "code",
   "execution_count": 5,
   "metadata": {},
   "outputs": [
    {
     "data": {
      "text/plain": [
       "(506,)"
      ]
     },
     "execution_count": 5,
     "metadata": {},
     "output_type": "execute_result"
    }
   ],
   "source": [
    "# Dimension of the target table\n",
    "y.shape"
   ]
  },
  {
   "cell_type": "markdown",
   "metadata": {},
   "source": [
    "**Target**: What we want to predict. <br>\n",
    "`MEDV` - Median value of owner-occupied homes in $1000's <br>"
   ]
  },
  {
   "cell_type": "markdown",
   "metadata": {},
   "source": [
    "### 3. Training and Test Split\n",
    "<a id=\"3\"></a>"
   ]
  },
  {
   "cell_type": "code",
   "execution_count": 6,
   "metadata": {},
   "outputs": [
    {
     "name": "stdout",
     "output_type": "stream",
     "text": [
      "Training Features Shape: (404, 13)\n",
      "Training Labels Shape: (404,)\n",
      "Testing Features Shape: (102, 13)\n",
      "Testing Labels Shape: (102,)\n"
     ]
    }
   ],
   "source": [
    "from sklearn.model_selection import train_test_split\n",
    "# split train test 8:2\n",
    "X_train, X_test, y_train, y_test = train_test_split(X, y, test_size=0.2, random_state=42)\n",
    "print('Training Features Shape:', X_train.shape)\n",
    "print('Training Labels Shape:', y_train.shape)\n",
    "print('Testing Features Shape:', X_test.shape)\n",
    "print('Testing Labels Shape:', y_test.shape)"
   ]
  },
  {
   "cell_type": "markdown",
   "metadata": {},
   "source": [
    "### 4. Predict with Regressors: Random Forest, k-NN, and Ridge Regression\n",
    "<a id=\"4\"></a>"
   ]
  },
  {
   "cell_type": "code",
   "execution_count": 7,
   "metadata": {},
   "outputs": [],
   "source": [
    "# Create decision tree classifer object\n",
    "from sklearn.ensemble import RandomForestRegressor\n",
    "from sklearn import neighbors\n",
    "from sklearn import linear_model\n",
    "rf = RandomForestRegressor(random_state=42, n_jobs=-1)\n",
    "knn = neighbors.KNeighborsRegressor()\n",
    "ridge = linear_model.Ridge(random_state=42)"
   ]
  },
  {
   "cell_type": "code",
   "execution_count": 8,
   "metadata": {},
   "outputs": [],
   "source": [
    "# Train all model\n",
    "regr_rf = rf.fit(X_train, y_train);\n",
    "regr_knn = knn.fit(X_train, y_train);\n",
    "regr_ridge = ridge.fit(X_train, y_train);"
   ]
  },
  {
   "cell_type": "code",
   "execution_count": 9,
   "metadata": {},
   "outputs": [],
   "source": [
    "# prediction\n",
    "y_pred_rf = regr_rf.predict(X_test)\n",
    "y_pred_knn = regr_knn.predict(X_test)\n",
    "y_pred_ridge = regr_ridge.predict(X_test)"
   ]
  },
  {
   "cell_type": "markdown",
   "metadata": {},
   "source": [
    "### 5. Max Error (ME)\n",
    "<a id=\"5\"></a>"
   ]
  },
  {
   "cell_type": "markdown",
   "metadata": {},
   "source": [
    "<img src='datasets/metrics/max_error.png' width=\"300\"/>\n",
    "\n",
    "$$\\textbf{max error}=  max(|y_{j} - \\hat{y_{j}}|)$$\n",
    "\n",
    "The max error function returns the worse prediction of $y$ by the model. Where $y_{j}$ is the ground truth of the $j$-th sample, $\\hat{y_{j}}$ is the corresponding predicted target value of the $j$-th sample."
   ]
  },
  {
   "cell_type": "code",
   "execution_count": 10,
   "metadata": {},
   "outputs": [
    {
     "name": "stdout",
     "output_type": "stream",
     "text": [
      "Max error (Random Forest):18.58\n",
      "Max error (k-NN):19.84\n",
      "Max error (Ridge):25.59\n"
     ]
    }
   ],
   "source": [
    "from sklearn.metrics import max_error\n",
    "max_err_rf = max_error(y_test, y_pred_rf)\n",
    "max_err_knn = max_error(y_test, y_pred_knn)\n",
    "max_err_ridge = max_error(y_test, y_pred_ridge)\n",
    "print (\"Max error (Random Forest):\"+\"{:.2f}\".format(max_err_rf))\n",
    "print (\"Max error (k-NN):\"+\"{:.2f}\".format(max_err_knn))\n",
    "print (\"Max error (Ridge):\"+\"{:.2f}\".format(max_err_ridge))"
   ]
  },
  {
   "cell_type": "markdown",
   "metadata": {},
   "source": [
    "### 6. Mean Absolute Error (MAE)\n",
    "<a id=\"6\"></a>"
   ]
  },
  {
   "cell_type": "markdown",
   "metadata": {},
   "source": [
    "<img src='datasets/metrics/mae.png' width=\"350\"/>\n",
    "$$\\textbf{mean absolute error}= \\dfrac{1}{n}\\sum (|y - \\hat{y}|)$$\n",
    "\n",
    "MAE gives the mean of all of the absolute errors in the prediction. An MAE of 0 simply means a perfect prediction. A small MAE indicate you have a great model, while a large MAE suggest you have a bad prediction."
   ]
  },
  {
   "cell_type": "code",
   "execution_count": 11,
   "metadata": {},
   "outputs": [
    {
     "name": "stdout",
     "output_type": "stream",
     "text": [
      "MAE (Random Forest): 2.06\n",
      "MAE (k-NN): 3.66\n",
      "MAE (Ridge):3.13\n"
     ]
    }
   ],
   "source": [
    "from sklearn.metrics import mean_absolute_error\n",
    "mae_rf = mean_absolute_error(y_test, y_pred_rf)\n",
    "mae_knn = mean_absolute_error(y_test, y_pred_knn)\n",
    "mae_ridge = mean_absolute_error(y_test, y_pred_ridge)\n",
    "print (\"MAE (Random Forest): \"+\"{:.2f}\".format(mae_rf))\n",
    "print (\"MAE (k-NN): \"+\"{:.2f}\".format(mae_knn))\n",
    "print (\"MAE (Ridge):\"+\"{:.2f}\".format(mae_ridge))"
   ]
  },
  {
   "cell_type": "markdown",
   "metadata": {},
   "source": [
    "### 7. Mean Absolute Percentage Error (MAPE)\n",
    "<a id=\"7\"></a>"
   ]
  },
  {
   "cell_type": "markdown",
   "metadata": {},
   "source": [
    "<img src='datasets/metrics/mape.png' width=\"350\"/>\n",
    "$$\\textbf{mean absolute percentage error}= \\dfrac{100%}{n}\\sum |\\dfrac{(|y - \\hat{y}|)}{y}|$$\n",
    "\n",
    "MAPE is the percentage equivalent of MAE. \n",
    "\n",
    "A quick comment about MAPE: when the ground truth is zero, this computation breaks down due to the division by a zero value, also the metric tend to be biased towards predictions less than the ground truth (i.e. MAPE tend to be lower when the prediction is less than the ground truth, but higher when it is greater than the ground truth by the same amount.) "
   ]
  },
  {
   "cell_type": "code",
   "execution_count": 12,
   "metadata": {},
   "outputs": [
    {
     "name": "stdout",
     "output_type": "stream",
     "text": [
      "MAPE (Random Forest): 11.23%\n",
      "MAPE (k-NN): 18.89%\n",
      "MAPE (Ridge): 16.61%\n"
     ]
    }
   ],
   "source": [
    "def mean_absolute_percentage_error(y_true, y_pred): \n",
    "    return np.mean(np.abs((y_true - y_pred) / y_true)) \n",
    "\n",
    "mape_rf = mean_absolute_percentage_error(y_test, y_pred_rf)\n",
    "mape_knn = mean_absolute_percentage_error(y_test, y_pred_knn)\n",
    "mape_ridge = mean_absolute_percentage_error(y_test, y_pred_ridge)\n",
    "print (\"MAPE (Random Forest): {0:.2%}\".format(mape_rf))\n",
    "print (\"MAPE (k-NN): {0:.2%}\".format(mape_knn))\n",
    "print (\"MAPE (Ridge): {0:.2%}\".format(mape_ridge))"
   ]
  },
  {
   "cell_type": "markdown",
   "metadata": {},
   "source": [
    "### 8. Mean Square Error (MSE)\n",
    "<a id=\"8\"></a>"
   ]
  },
  {
   "cell_type": "markdown",
   "metadata": {},
   "source": [
    "<img src='datasets/metrics/mse.png' width=\"350\"/>\n",
    "$$\\textbf{mean square error}= \\dfrac{1}{n}\\sum (y - \\hat{y})^2$$\n",
    "\n",
    "As opposed to taking the absolute value of the difference between the ground truth and the predicted value, in MSE, the difference is squared. As such, MSE metric will be higher than a correponding MAE metric. A potential benefit of computing the MSE is to detect the presence of outliers in the predictions. "
   ]
  },
  {
   "cell_type": "code",
   "execution_count": 13,
   "metadata": {},
   "outputs": [
    {
     "name": "stdout",
     "output_type": "stream",
     "text": [
      "MSE (Random Forest):9.06\n",
      "MSE (k-NN):25.86\n",
      "MSE (Ridge):24.48\n"
     ]
    }
   ],
   "source": [
    "from sklearn.metrics import mean_squared_error\n",
    "mse_rf = mean_squared_error(y_test, y_pred_rf)\n",
    "mse_knn = mean_squared_error(y_test, y_pred_knn)\n",
    "mse_ridge = mean_squared_error(y_test, y_pred_ridge)\n",
    "print (\"MSE (Random Forest):\"+\"{:.2f}\".format(mse_rf))\n",
    "print (\"MSE (k-NN):\"+\"{:.2f}\".format(mse_knn))\n",
    "print (\"MSE (Ridge):\"+\"{:.2f}\".format(mse_ridge))"
   ]
  },
  {
   "cell_type": "markdown",
   "metadata": {},
   "source": [
    "### 9. Coefficient of Determination ($R^2$)\n",
    "<a id=\"9\"></a>"
   ]
  },
  {
   "cell_type": "markdown",
   "metadata": {},
   "source": [
    "$$\\textbf{$R^{2}$}= 1 - \\dfrac{\\sum(y_{j} - \\hat{y_{j}})}{\\sum(y_{j} - \\bar{y_{j}})}$$\n",
    "\n",
    "$R^2$ estimates the proportion of variance of $y$ captured by the independent variables in the model. It's an estimation of the goodness of fit of the model. Highest possible score = 1.0."
   ]
  },
  {
   "cell_type": "code",
   "execution_count": 24,
   "metadata": {},
   "outputs": [
    {
     "name": "stdout",
     "output_type": "stream",
     "text": [
      "R^2 (Random Forest):0.88\n",
      "R^2 (k-NN):0.65\n",
      "R^2 (Ridge):0.67\n"
     ]
    }
   ],
   "source": [
    "from sklearn.metrics import r2_score\n",
    "r2_score_rf = r2_score(y_test, y_pred_rf)\n",
    "r2_score_knn = r2_score(y_test, y_pred_knn)\n",
    "r2_score_ridge = r2_score(y_test, y_pred_ridge)\n",
    "print (\"R^2 (Random Forest):\"+\"{:.2f}\".format(r2_score_rf))\n",
    "print (\"R^2 (k-NN):\"+\"{:.2f}\".format(r2_score_knn))\n",
    "print (\"R^2 (Ridge):\"+\"{:.2f}\".format(r2_score_ridge))"
   ]
  },
  {
   "cell_type": "markdown",
   "metadata": {},
   "source": [
    "**Clearly, on all metrics, the random forest regressor gave the best prediction of the house prices**"
   ]
  },
  {
   "cell_type": "markdown",
   "metadata": {},
   "source": [
    "### 10. Residual Plots\n",
    "<a id=\"10\"></a>\n",
    "An example of a visual regresion metric is the residual plot; which plots the residual $(y - \\hat{y})$ against the predicted value. As such, for good predictions, the data points will hover/cluster around the zero on the residual axis."
   ]
  },
  {
   "cell_type": "code",
   "execution_count": 20,
   "metadata": {},
   "outputs": [
    {
     "name": "stderr",
     "output_type": "stream",
     "text": [
      "'c' argument looks like a single numeric RGB or RGBA sequence, which should be avoided as value-mapping will have precedence in case its length matches with 'x' & 'y'.  Please use a 2-D array with a single row if you really want to specify the same RGB or RGBA value for all points.\n"
     ]
    },
    {
     "data": {
      "image/png": "[encoded data removed]",
      "text/plain": [
       "<Figure size 216x216 with 1 Axes>"
      ]
     },
     "metadata": {
      "image/png": {
       "height": 235,
       "width": 284
      },
      "needs_background": "light"
     },
     "output_type": "display_data"
    }
   ],
   "source": [
    "import matplotlib\n",
    "matplotlib.rcParams['figure.figsize'] = (3, 3)\n",
    "preds = pd.DataFrame({\"preds\":y_pred_rf, \"true\": y_test})\n",
    "preds[\"residuals\"] = preds[\"true\"] - preds[\"preds\"]\n",
    "ax1 = preds.plot(x = \"preds\", y = \"residuals\",kind = \"scatter\");\n",
    "plt.title(\"Residual plot for Randomforest Regressor\");"
   ]
  },
  {
   "cell_type": "code",
   "execution_count": 21,
   "metadata": {},
   "outputs": [
    {
     "name": "stderr",
     "output_type": "stream",
     "text": [
      "'c' argument looks like a single numeric RGB or RGBA sequence, which should be avoided as value-mapping will have precedence in case its length matches with 'x' & 'y'.  Please use a 2-D array with a single row if you really want to specify the same RGB or RGBA value for all points.\n"
     ]
    },
    {
     "data": {
      "image/png": "[encoded data removed]",
      "text/plain": [
       "<Figure size 216x216 with 1 Axes>"
      ]
     },
     "metadata": {
      "image/png": {
       "height": 235,
       "width": 255
      },
      "needs_background": "light"
     },
     "output_type": "display_data"
    }
   ],
   "source": [
    "matplotlib.rcParams['figure.figsize'] = (3, 3)\n",
    "preds = pd.DataFrame({\"preds\":y_pred_knn, \"true\": y_test})\n",
    "preds[\"residuals\"] = preds[\"true\"] - preds[\"preds\"]\n",
    "ax1 = preds.plot(x = \"preds\", y = \"residuals\",kind = \"scatter\");\n",
    "plt.title(\"Residual plot for k-NN Regressor\");"
   ]
  },
  {
   "cell_type": "code",
   "execution_count": 22,
   "metadata": {},
   "outputs": [
    {
     "name": "stderr",
     "output_type": "stream",
     "text": [
      "'c' argument looks like a single numeric RGB or RGBA sequence, which should be avoided as value-mapping will have precedence in case its length matches with 'x' & 'y'.  Please use a 2-D array with a single row if you really want to specify the same RGB or RGBA value for all points.\n"
     ]
    },
    {
     "data": {
      "image/png": "[encoded data removed]",
      "text/plain": [
       "<Figure size 216x216 with 1 Axes>"
      ]
     },
     "metadata": {
      "image/png": {
       "height": 235,
       "width": 261
      },
      "needs_background": "light"
     },
     "output_type": "display_data"
    }
   ],
   "source": [
    "matplotlib.rcParams['figure.figsize'] = (3, 3)\n",
    "preds = pd.DataFrame({\"preds\":y_pred_ridge, \"true\": y_test})\n",
    "preds[\"residuals\"] = preds[\"true\"] - preds[\"preds\"]\n",
    "ax1 = preds.plot(x = \"preds\", y = \"residuals\",kind = \"scatter\");\n",
    "plt.title(\"Residual plot for Ridge Regression\");"
   ]
  },
  {
   "cell_type": "markdown",
   "metadata": {},
   "source": [
    "### 11. References and Resources\n",
    "<a id=\"11\"></a>"
   ]
  },
  {
   "cell_type": "markdown",
   "metadata": {},
   "source": [
    "- Hedonic prices and the demand for clean air', J. Environ. Economics & Management, vol.5, 81-102, 1978.\n",
    "- __[sklearn Regression Metrics](https://scikit-learn.org/stable/modules/model_evaluation.html#regression-metrics)__\n",
    "- __[dataquest, understanding regression error metrics](https://www.dataquest.io/blog/understanding-regression-error-metrics/)__\n"
   ]
  },
  {
   "cell_type": "code",
   "execution_count": null,
   "metadata": {},
   "outputs": [],
   "source": []
  }
 ],
 "metadata": {
  "kernelspec": {
   "display_name": "Python 3",
   "language": "python",
   "name": "python3"
  },
  "language_info": {
   "codemirror_mode": {
    "name": "ipython",
    "version": 3
   },
   "file_extension": ".py",
   "mimetype": "text/x-python",
   "name": "python",
   "nbconvert_exporter": "python",
   "pygments_lexer": "ipython3",
   "version": "3.6.8"
  }
 },
 "nbformat": 4,
 "nbformat_minor": 2
}
