{
 "cells": [
  {
   "cell_type": "markdown",
   "metadata": {},
   "source": [
    "***\n",
    "# Jupyter Notebook"
   ]
  },
  {
   "cell_type": "markdown",
   "metadata": {},
   "source": [
    "Author: Olatomiwa Bifarin\n",
    "\n",
    "_Treat (read) notebook as a draft_"
   ]
  },
  {
   "cell_type": "markdown",
   "metadata": {},
   "source": [
    "**Notebook Content**\n",
    "\n",
    "1. [What is Jupyter Notebook?](#1)\n",
    "2. [Installing and Starting Jupyter](#2)\n",
    "3. [Creating Notebooks](#3)\n",
    "    -  3.1 Cells\n",
    "    -  3.2 Text\n",
    "    -  3.3 Code\n",
    "    -  3.4 Menus and Toolbar\n",
    "4. [Exporting and Sharing Notebooks](#4)\n",
    "5. [Resources and References](#5)"
   ]
  },
  {
   "cell_type": "markdown",
   "metadata": {},
   "source": [
    "## 1 | What is Jupyter Notebook?\n",
    "<a id='1'></a>\n",
    "\n",
    "It is a web-based application in the form of a notebook that can be used for storing (and sharing) codes, notes, mathematical equations, and visualizations. It is one of the pivotal tools for doing data science. In this extremely short tutorial, I will go over the bare basics. "
   ]
  },
  {
   "cell_type": "markdown",
   "metadata": {},
   "source": [
    "## 2 | Installing and Starting Jupyter\n",
    "<a id='2'></a>\n",
    "\n",
    "You can install Jupyter notebook via __[Anaconda](https://www.anaconda.com/)__. It is an extremely popular distribution of python. And by installing via Anaconda, you get Jupyter notebook and python with many scientific libraries installed on your system. \n",
    "\n",
    "To start up the Jupyter Notebook server, click on the ananconda application icon, this opens up the anaconda navigator. Click on launch button of the jupyter notebook, and this opens up jupyter on your default browser with the following URL: http://localhost:8889/tree\n",
    "\n",
    "\n",
    "The URL displays your local directories. Navigate through appropriate folders, and then click on 'New', then click on 'Python 3' to launch Jupyter notebook (JN). \n",
    "\n",
    "An alternative way is to open JN via the terminal: create a subfolder on your computer. Then go to the sub-folder location via the terminal and run the command: \n",
    "\n",
    "$ jupyter notebook  \n",
    "\n",
    "Remember this, do not close the server while you are running a notebook. It will mess things up."
   ]
  },
  {
   "cell_type": "markdown",
   "metadata": {},
   "source": [
    "## 3 | Creating Notebooks\n",
    "<a id='3'></a>\n",
    "\n",
    "Now if everything works well, you have your jupyter notebook open. Lets dive into it's anatomy, and I will love to start with cells. Actually, wait, let's give our notebook a name, a befitting one. If you look at the top of your jupyter notebook, next to the jupyter logo, you have 'Untitled' next to it, click on it. And rename as you wish. \n",
    "\n",
    "Now let's go back to cells.   \n",
    "\n",
    "#### 3.1 | Cells\n",
    "\n",
    "Let see: a cell in jupyter notebook (for example, I am typing out these words in a cell) can be in at least 4 forms -  1) as a code, 2) markdown, 3) Raw NB CConvert, 4) Heading. \n",
    "\n",
    "The default form is the code, and the applicable programming language here is the kernel you chose while creating the notebook.\n",
    "\n",
    "To change the form of each cell, just toggle the white rectangle box, containing the keywords, at top panel of the notebook.\n",
    "\n",
    "Each cell can be executed one at a time with shift+enter. Alternately, click on 'Cell' in the top panel menu and 'Run cells'. There are other options for running cells, pick anyone that suites you.\n",
    "\n",
    "\n",
    "#### 3.2 | Text\n",
    "\n",
    "What I have been using is 'text in jupyter notebook', and so far it looks good. So. \n",
    "\n",
    "For text in jupyter, 'Markdown' is appropriate.\n",
    "\n",
    "Markdown can do you alot of good, here is a few: \n",
    "\n",
    "-  Heading\n",
    "-  Emphasis\n",
    "-  Mathematical symbols \n",
    "-  Line breaks   \n",
    "-  Colors\n",
    "-  Indenting\n",
    "-  Bullets\n",
    "-  Numbered Lists\n",
    "-  Graphics\n",
    "-  Geometric shapes\n",
    "-  Horizontal lines\n",
    "-  Internal links\n",
    "-  External links\n",
    "\n",
    "For more details on the aforementioned, here is a really cool cheat sheet, click on it and thank me later :) : __[Mark Down Jupyter Notebook Cheat Sheet](https://medium.com/ibm-data-science-experience/markdown-for-jupyter-notebooks-cheatsheet-386c05aeebed)__"
   ]
  },
  {
   "cell_type": "markdown",
   "metadata": {},
   "source": [
    "#### 3.3 | Code\n",
    "\n",
    "Here are a few examples: \n"
   ]
  },
  {
   "cell_type": "code",
   "execution_count": 1,
   "metadata": {},
   "outputs": [
    {
     "data": {
      "text/plain": [
       "11"
      ]
     },
     "execution_count": 1,
     "metadata": {},
     "output_type": "execute_result"
    }
   ],
   "source": [
    "x = 4 +7\n",
    "x"
   ]
  },
  {
   "cell_type": "code",
   "execution_count": 2,
   "metadata": {},
   "outputs": [
    {
     "data": {
      "text/plain": [
       "13"
      ]
     },
     "execution_count": 2,
     "metadata": {},
     "output_type": "execute_result"
    }
   ],
   "source": [
    "x += 2\n",
    "x"
   ]
  },
  {
   "cell_type": "markdown",
   "metadata": {},
   "source": [
    "Note that the output was captured below each cell. \n",
    "\n",
    "This applies similarly for plot output too."
   ]
  },
  {
   "cell_type": "code",
   "execution_count": 12,
   "metadata": {},
   "outputs": [
    {
     "data": {
      "image/png": "[encoded data removed]",
      "text/plain": [
       "<Figure size 432x288 with 1 Axes>"
      ]
     },
     "metadata": {
      "needs_background": "light"
     },
     "output_type": "display_data"
    }
   ],
   "source": [
    "import seaborn as sns\n",
    "\n",
    "#Load the example tips dataset\n",
    "tips = sns.load_dataset(\"tips\")\n",
    "#plot\n",
    "sns.boxplot(x=\"day\", y=\"total_bill\", hue=\"smoker\", data=tips);"
   ]
  },
  {
   "cell_type": "markdown",
   "metadata": {},
   "source": [
    "#### 3.4 | Menus and Toolbar\n",
    "\n",
    "The top panel contains the menu. As of the time of writing, I can see the following: \n",
    "\n",
    "-  File: allows you to manage your jupyter notebook, from creating new notebooks, to downloading current ones.\n",
    "-  Edit: essentially helps to manipulate cells, cut, paste, merge etc. \n",
    "-  View: for toggling header, line number, and toolbar; for viewing slideshows, and all sort. \n",
    "-  Insert: Insert cell above or below. \n",
    "-  Cell: change cell type, and run cell as you wish. \n",
    "-  Kernel: Interrupt your Kernel, reconnect, restart - if you code enough, you will need to debug your notebook, then these becomes handy. \n",
    "-  Help: access to all sort of references: user interface tour, Numpy, Scipy, pandas, keyboard shortcuts, etc.    \n",
    "\n",
    "The toolbar is just directly below the Menu, and the symbols are decriptive enough, I wouldn't spend time on this: a plus sign to open a new notebook, a diskette to save notebook, a scissor to cut cell, and so on.  \n",
    "\n"
   ]
  },
  {
   "cell_type": "markdown",
   "metadata": {},
   "source": [
    "## 4 | Exporting and Sharing Notebooks\n",
    "<a id='4'></a>\n",
    "\n",
    "You have just finished this great notebook, and then it hit you - how the hell can I share this with my boss who doesn't do Jupyter notebook or python? \n",
    "\n",
    "Well, you could export these things. By using __[nbconvert tool](https://nbconvert.readthedocs.io/en/latest/)__ which comes with jupyter notebook. \n",
    "\n",
    "The nbconvert tool converts from (.ipynb) formats to other formats like HTML, latex, and PDF. However, to convert seamlessly, you might need to install Pandoc and Tex. Once all is set, you can easily go to 'Download as' under 'File', and pick the appropriate format. "
   ]
  },
  {
   "cell_type": "markdown",
   "metadata": {},
   "source": [
    "## 5 | Resources and References\n",
    "<a id='5'></a>\n",
    "\n",
    "**Presenting Notebooks** <br>\n",
    "\n",
    "Your Jupyter notebook could effectively replace your power point if you know your way around. This could be done with RISE: Reveal.js - Jupyter/IPython Slideshow Extension. \n",
    "\n",
    "Here are some resources that will help you get started.\n",
    "\n",
    "-  __[Python - Installing Add-Ons for Jupyter Notebook in Mac (Video)](https://www.youtube.com/watch?v=B996OAd1VBg)__\n",
    "-  __[RISE Website](https://damianavila.github.io/RISE/)__\n",
    "-  __[Damian Avila, Current RISE capabilities and its evolution into the future, *O' Reilly* Oct 10, 2018 - Video](https://www.youtube.com/watch?v=Gx2TnIdt0hw)__ \n",
    "-  __[RISE Documentation PDF](https://media.readthedocs.org/pdf/rise/latest/rise.pdf)__\n",
    "\n",
    "**Other Useful Resources**\n",
    "\n",
    "-  __[Mark Down Jupyter Notebook Cheat Sheet](https://medium.com/ibm-data-science-experience/markdown-for-jupyter-notebooks-cheatsheet-386c05aeebed)__ and __[and Here is Another](https://gist.github.com/jonschlinkert/5854601)__\n",
    "-  __[Python For Data Science Cheat Sheet Jupyter Notebook](https://s3.amazonaws.com/assets.datacamp.com/blog_assets/Jupyter_Notebook_Cheat_Sheet.pdf)__\n",
    "-  __[nbconvert Official Documentation](https://nbconvert.readthedocs.io/en/latest/)__\n",
    "-  __[Installing Python Packages from a Jupyter Notebook](https://jakevdp.github.io/blog/2017/12/05/installing-python-packages-from-jupyter/)__"
   ]
  },
  {
   "cell_type": "markdown",
   "metadata": {},
   "source": [
    "**References**\n",
    "\n",
    "-  __[Mike Driscoll, Jupyter Notebook: An Introduction *Realpython.com* Jan 28, 2019](https://realpython.com/jupyter-notebook-introduction/)__\n",
    "-  __[Finn Arup Nielsen, Jupyter (formerly IPython notebook) *Technical University of Denmark* Mar 1, 2017](http://www2.imm.dtu.dk/pubdb/views/edoc_download.php/6973/pdf/imm6973.pdf)__\n",
    "-  __[Inge Halilovoc, Markdown for Jupyter notebooks cheatsheet *IBM Watson Data* Feb 7, 2017](https://medium.com/ibm-data-science-experience/markdown-for-jupyter-notebooks-cheatsheet-386c05aeebed)__"
   ]
  },
  {
   "cell_type": "code",
   "execution_count": null,
   "metadata": {},
   "outputs": [],
   "source": []
  }
 ],
 "metadata": {
  "kernelspec": {
   "display_name": "Python 3",
   "language": "python",
   "name": "python3"
  },
  "language_info": {
   "codemirror_mode": {
    "name": "ipython",
    "version": 3
   },
   "file_extension": ".py",
   "mimetype": "text/x-python",
   "name": "python",
   "nbconvert_exporter": "python",
   "pygments_lexer": "ipython3",
   "version": "3.6.8"
  }
 },
 "nbformat": 4,
 "nbformat_minor": 2
}
