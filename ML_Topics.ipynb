{
 "cells": [
  {
   "cell_type": "markdown",
   "metadata": {},
   "source": [
    "# List of ML Topics\n",
    "\n",
    "Olatomiwa Bifarin. <br>\n",
    "PhD Candidate Biochemistry and Molecular Biology <br>\n",
    "@ The University of Georgia\n",
    "\n",
    "_This is a draft copy, a work in progress_"
   ]
  },
  {
   "cell_type": "markdown",
   "metadata": {},
   "source": [
    "### Drafts Completed/Published"
   ]
  },
  {
   "cell_type": "markdown",
   "metadata": {},
   "source": [
    "1. Machine learning outline\n",
    "2. Jupyter notebook\n",
    "3. Introduction to Numerical Python\n",
    "4. Data Handling with Pandas\n",
    "5. Matplotlib/Seaborn\n",
    "6. A brief note on statistics\n",
    "7. Machine learning overview\n",
    "8. Resampling methods\n",
    "9. Classification metrics\n",
    "10. Regression metrics\n",
    "11. Logit model\n",
    "12. K-nearest neighbors\n",
    "13. Decision trees\n",
    "14. Ensemble learning"
   ]
  },
  {
   "cell_type": "markdown",
   "metadata": {},
   "source": [
    "### Upcoming"
   ]
  },
  {
   "cell_type": "markdown",
   "metadata": {},
   "source": [
    "- PCA\n",
    "- PLSDA \n",
    "    - __[Link 1](https://en.wikipedia.org/wiki/Partial_least_squares_regression)__\n",
    "    - __[Link 2](https://personal.utdallas.edu/~herve/Abdi-PLS-pretty.pdf)__\n",
    "    - __[Link 3](https://fiehnlab.ucdavis.edu/staff/kind/statistics/concepts/opls-plsda)__\n",
    "- Random Forest\n",
    "- SVM\n",
    "- GaussianNB\n",
    "- Linear and regularized models\n",
    "- Feature selection/propensity matching"
   ]
  },
  {
   "cell_type": "code",
   "execution_count": null,
   "metadata": {},
   "outputs": [],
   "source": []
  },
  {
   "cell_type": "code",
   "execution_count": null,
   "metadata": {},
   "outputs": [],
   "source": []
  }
 ],
 "metadata": {
  "kernelspec": {
   "display_name": "Python 3",
   "language": "python",
   "name": "python3"
  },
  "language_info": {
   "codemirror_mode": {
    "name": "ipython",
    "version": 3
   },
   "file_extension": ".py",
   "mimetype": "text/x-python",
   "name": "python",
   "nbconvert_exporter": "python",
   "pygments_lexer": "ipython3",
   "version": "3.6.8"
  }
 },
 "nbformat": 4,
 "nbformat_minor": 2
}
