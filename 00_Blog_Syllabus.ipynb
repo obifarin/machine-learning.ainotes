{
 "cells": [
  {
   "cell_type": "markdown",
   "metadata": {},
   "source": [
    "****"
   ]
  },
  {
   "cell_type": "markdown",
   "metadata": {},
   "source": [
    "# ML Blog Syllabus (Tentative)\n",
    "\n",
    "Author: Olatomiwa Bifarin. \n",
    "\n",
    "This syllabus is a work in progress. Treat as an appromixation - subject to changes."
   ]
  },
  {
   "cell_type": "markdown",
   "metadata": {},
   "source": [
    "## Computational Foundations"
   ]
  },
  {
   "cell_type": "markdown",
   "metadata": {},
   "source": [
    "-  **Jupyter Notebook** <br>\n",
    "    _For sharing my notes, codes, figures, and equations_\n",
    "    \n",
    "    \n",
    "-  **Numpy**<br>\n",
    "    _Numerical Python_\n",
    "    \n",
    "    \n",
    "-  **Pandas** <br> \n",
    "    _For data handling and manipulation_\n",
    "    \n",
    "    \n",
    "-  **Data Visualization** <br>\n",
    "    _Matplotlib, Seaborn_"
   ]
  },
  {
   "cell_type": "markdown",
   "metadata": {},
   "source": [
    "## Mathematical Foundations"
   ]
  },
  {
   "cell_type": "markdown",
   "metadata": {},
   "source": [
    "-  **Linear Algebra for People in a Hurry**\n",
    "\n",
    "\n",
    "-  **Multivariate Calculus Inshorts**"
   ]
  },
  {
   "cell_type": "markdown",
   "metadata": {},
   "source": [
    "## Machine Learning Notes"
   ]
  },
  {
   "cell_type": "markdown",
   "metadata": {},
   "source": [
    "- **The Statistical Learning Terrain** <br>\n",
    "    _And what do we mean by learning - learning statistically?_\n",
    "    \n",
    "    \n",
    "-  **Unsupervised Learning** <br>\n",
    "    _PCA, k-means, Hierarchical Clustering et al_ \n",
    "    \n",
    "    \n",
    "-  **Classification Metrics and Resampling Methods** <br>\n",
    "    _ROC, Recall, Precision, cross validation methods et al_ \n",
    "    \n",
    "    \n",
    "-  **7 Tpyes of Regression I know** <br>\n",
    "    _Linear, Polynomial, Logistic, Ridge, Lasso, Elastic Net et al_\n",
    "    \n",
    "    \n",
    "-  **Trees and Forests** <br>\n",
    "    _i.e. Decision Tree and Random Forest_\n",
    "    \n",
    "    \n",
    "-  **Other Ensemble Learning Methods** <br>\n",
    "    _Bagging, Boosting_\n",
    "    \n",
    "    \n",
    "-  **Support Vector Machine** <br>\n",
    "    _Of Hyperplanes and Gutters_\n"
   ]
  },
  {
   "cell_type": "code",
   "execution_count": null,
   "metadata": {},
   "outputs": [],
   "source": []
  }
 ],
 "metadata": {
  "kernelspec": {
   "display_name": "Python 3",
   "language": "python",
   "name": "python3"
  },
  "language_info": {
   "codemirror_mode": {
    "name": "ipython",
    "version": 3
   },
   "file_extension": ".py",
   "mimetype": "text/x-python",
   "name": "python",
   "nbconvert_exporter": "python",
   "pygments_lexer": "ipython3",
   "version": "3.6.8"
  }
 },
 "nbformat": 4,
 "nbformat_minor": 2
}
